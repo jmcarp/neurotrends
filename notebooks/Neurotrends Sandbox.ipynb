{
 "metadata": {
  "name": "Neurotrends Sandbox"
 },
 "nbformat": 3,
 "nbformat_minor": 0,
 "worksheets": [
  {
   "cells": [
    {
     "cell_type": "code",
     "collapsed": false,
     "input": [
      "import os\n",
      "os.chdir('/Users/jmcarp/code/neurotrends')"
     ],
     "language": "python",
     "metadata": {},
     "outputs": [],
     "prompt_number": 3
    },
    {
     "cell_type": "code",
     "collapsed": false,
     "input": [
      "from neurotrends.model.article import Article"
     ],
     "language": "python",
     "metadata": {},
     "outputs": [],
     "prompt_number": 4
    },
    {
     "cell_type": "code",
     "collapsed": false,
     "input": [
      "added = Article.update('fmri', 100)"
     ],
     "language": "python",
     "metadata": {},
     "outputs": [
      {
       "output_type": "stream",
       "stream": "stdout",
       "text": [
        "Browsing to http://archsurg.jamanetwork.com.proxy.lib.umich.edu/data/Journals/SURG/9596/soa4061.pdf...\n",
        "Browsing to http://www.ncbi.nlm.nih.gov/pmc/articles/pmid/15613292..."
       ]
      },
      {
       "output_type": "stream",
       "stream": "stdout",
       "text": [
        "\n",
        "HTTP Error 404: Not Found, Retrying in 3 seconds..."
       ]
      },
      {
       "output_type": "stream",
       "stream": "stdout",
       "text": [
        "\n",
        "Browsing to http://www.ncbi.nlm.nih.gov/pmc/articles/pmid/15613292..."
       ]
      },
      {
       "output_type": "stream",
       "stream": "stdout",
       "text": [
        "\n",
        "HTTP Error 404: Not Found, Retrying in 6 seconds..."
       ]
      },
      {
       "output_type": "stream",
       "stream": "stdout",
       "text": [
        "\n",
        "Browsing to http://www.ncbi.nlm.nih.gov/pmc/articles/pmid/15613292..."
       ]
      },
      {
       "output_type": "stream",
       "stream": "stdout",
       "text": [
        "\n",
        "HTTP Error 404: Not Found, Retrying in 12 seconds..."
       ]
      },
      {
       "output_type": "stream",
       "stream": "stdout",
       "text": [
        "\n",
        "Browsing to http://www.ncbi.nlm.nih.gov/pmc/articles/pmid/15613292..."
       ]
      },
      {
       "output_type": "stream",
       "stream": "stdout",
       "text": [
        "\n",
        "Bad document, Retrying in 3 seconds..."
       ]
      },
      {
       "output_type": "stream",
       "stream": "stdout",
       "text": [
        "\n",
        "Bad document, Retrying in 6 seconds..."
       ]
      },
      {
       "output_type": "stream",
       "stream": "stdout",
       "text": [
        "\n",
        "Bad document, Retrying in 12 seconds..."
       ]
      },
      {
       "output_type": "stream",
       "stream": "stdout",
       "text": [
        "\n",
        "Browsing to http://www.ncbi.nlm.nih.gov/pmc/articles/pmid/17692218..."
       ]
      },
      {
       "output_type": "stream",
       "stream": "stdout",
       "text": [
        "\n",
        "HTTP Error 404: Not Found, Retrying in 3 seconds..."
       ]
      },
      {
       "output_type": "stream",
       "stream": "stdout",
       "text": [
        "\n",
        "Browsing to http://www.ncbi.nlm.nih.gov/pmc/articles/pmid/17692218..."
       ]
      },
      {
       "output_type": "stream",
       "stream": "stdout",
       "text": [
        "\n",
        "HTTP Error 404: Not Found, Retrying in 6 seconds..."
       ]
      },
      {
       "output_type": "stream",
       "stream": "stdout",
       "text": [
        "\n",
        "Browsing to http://www.ncbi.nlm.nih.gov/pmc/articles/pmid/17692218..."
       ]
      },
      {
       "output_type": "stream",
       "stream": "stdout",
       "text": [
        "\n",
        "HTTP Error 404: Not Found, Retrying in 12 seconds..."
       ]
      },
      {
       "output_type": "stream",
       "stream": "stdout",
       "text": [
        "\n",
        "Browsing to http://www.ncbi.nlm.nih.gov/pmc/articles/pmid/17692218..."
       ]
      },
      {
       "output_type": "stream",
       "stream": "stdout",
       "text": [
        "\n",
        "Bad document, Retrying in 3 seconds..."
       ]
      },
      {
       "output_type": "stream",
       "stream": "stdout",
       "text": [
        "\n",
        "Bad document, Retrying in 6 seconds..."
       ]
      },
      {
       "output_type": "stream",
       "stream": "stdout",
       "text": [
        "\n",
        "Bad document, Retrying in 12 seconds..."
       ]
      },
      {
       "output_type": "stream",
       "stream": "stdout",
       "text": [
        "\n",
        "Browsing to http://www.ncbi.nlm.nih.gov/pmc/articles/pmid/8749159..."
       ]
      },
      {
       "output_type": "stream",
       "stream": "stdout",
       "text": [
        "\n",
        "HTTP Error 404: Not Found, Retrying in 3 seconds..."
       ]
      },
      {
       "output_type": "stream",
       "stream": "stdout",
       "text": [
        "\n",
        "Browsing to http://www.ncbi.nlm.nih.gov/pmc/articles/pmid/8749159..."
       ]
      },
      {
       "output_type": "stream",
       "stream": "stdout",
       "text": [
        "\n",
        "HTTP Error 404: Not Found, Retrying in 6 seconds..."
       ]
      },
      {
       "output_type": "stream",
       "stream": "stdout",
       "text": [
        "\n",
        "Browsing to http://www.ncbi.nlm.nih.gov/pmc/articles/pmid/8749159..."
       ]
      },
      {
       "output_type": "stream",
       "stream": "stdout",
       "text": [
        "\n",
        "HTTP Error 404: Not Found, Retrying in 12 seconds..."
       ]
      },
      {
       "output_type": "stream",
       "stream": "stdout",
       "text": [
        "\n",
        "Browsing to http://www.ncbi.nlm.nih.gov/pmc/articles/pmid/8749159..."
       ]
      },
      {
       "output_type": "stream",
       "stream": "stdout",
       "text": [
        "\n",
        "Browsing to http://www.nature.com.proxy.lib.umich.edu/ki/journal/v74/n2/pdf/ki2008171a.pdf..."
       ]
      },
      {
       "output_type": "stream",
       "stream": "stdout",
       "text": [
        "\n",
        "Browsing to http://www.ncbi.nlm.nih.gov/pmc/articles/pmid/18591946..."
       ]
      },
      {
       "output_type": "stream",
       "stream": "stdout",
       "text": [
        "\n",
        "HTTP Error 404: Not Found, Retrying in 3 seconds..."
       ]
      },
      {
       "output_type": "stream",
       "stream": "stdout",
       "text": [
        "\n",
        "Browsing to http://www.ncbi.nlm.nih.gov/pmc/articles/pmid/18591946..."
       ]
      },
      {
       "output_type": "stream",
       "stream": "stdout",
       "text": [
        "\n",
        "HTTP Error 404: Not Found, Retrying in 6 seconds..."
       ]
      },
      {
       "output_type": "stream",
       "stream": "stdout",
       "text": [
        "\n",
        "Browsing to http://www.ncbi.nlm.nih.gov/pmc/articles/pmid/18591946..."
       ]
      },
      {
       "output_type": "stream",
       "stream": "stdout",
       "text": [
        "\n",
        "HTTP Error 404: Not Found, Retrying in 12 seconds..."
       ]
      },
      {
       "output_type": "stream",
       "stream": "stdout",
       "text": [
        "\n",
        "Browsing to http://www.ncbi.nlm.nih.gov/pmc/articles/pmid/18591946..."
       ]
      },
      {
       "output_type": "stream",
       "stream": "stdout",
       "text": [
        "\n",
        "Browsing to http://www.sciencedirect.com.proxy.lib.umich.edu/science/article/pii/0735109794004653/pdf?md5=a28d6411ed7b705bebcf27267c1dd980&pid=1-s2.0-0735109794004653-main.pdf..."
       ]
      },
      {
       "output_type": "stream",
       "stream": "stdout",
       "text": [
        "\n",
        "Browsing to http://www.sciencedirect.com.proxy.lib.umich.edu/science/article/pii/0735109794004653?np=y..."
       ]
      },
      {
       "output_type": "stream",
       "stream": "stdout",
       "text": [
        "\n",
        "No access, Retrying in 3 seconds..."
       ]
      },
      {
       "output_type": "stream",
       "stream": "stdout",
       "text": [
        "\n",
        "Browsing to http://www.sciencedirect.com.proxy.lib.umich.edu/science/article/pii/0735109794004653?np=y..."
       ]
      },
      {
       "output_type": "stream",
       "stream": "stdout",
       "text": [
        "\n",
        "No access, Retrying in 6 seconds..."
       ]
      },
      {
       "output_type": "stream",
       "stream": "stdout",
       "text": [
        "\n",
        "Browsing to http://www.sciencedirect.com.proxy.lib.umich.edu/science/article/pii/0735109794004653?np=y..."
       ]
      },
      {
       "output_type": "stream",
       "stream": "stdout",
       "text": [
        "\n",
        "No access, Retrying in 12 seconds..."
       ]
      },
      {
       "output_type": "stream",
       "stream": "stdout",
       "text": [
        "\n",
        "Browsing to http://www.sciencedirect.com.proxy.lib.umich.edu/science/article/pii/0735109794004653?np=y..."
       ]
      },
      {
       "output_type": "stream",
       "stream": "stdout",
       "text": [
        "\n",
        "Browsing to http://www.ncbi.nlm.nih.gov/pmc/articles/pmid/7884100..."
       ]
      },
      {
       "output_type": "stream",
       "stream": "stdout",
       "text": [
        "\n",
        "HTTP Error 404: Not Found, Retrying in 3 seconds..."
       ]
      },
      {
       "output_type": "stream",
       "stream": "stdout",
       "text": [
        "\n",
        "Browsing to http://www.ncbi.nlm.nih.gov/pmc/articles/pmid/7884100..."
       ]
      },
      {
       "output_type": "stream",
       "stream": "stdout",
       "text": [
        "\n",
        "HTTP Error 404: Not Found, Retrying in 6 seconds..."
       ]
      },
      {
       "output_type": "stream",
       "stream": "stdout",
       "text": [
        "\n",
        "Browsing to http://www.ncbi.nlm.nih.gov/pmc/articles/pmid/7884100..."
       ]
      },
      {
       "output_type": "stream",
       "stream": "stdout",
       "text": [
        "\n",
        "HTTP Error 404: Not Found, Retrying in 12 seconds..."
       ]
      },
      {
       "output_type": "stream",
       "stream": "stdout",
       "text": [
        "\n",
        "Browsing to http://www.ncbi.nlm.nih.gov/pmc/articles/pmid/7884100..."
       ]
      },
      {
       "output_type": "stream",
       "stream": "stdout",
       "text": [
        "\n",
        "Browsing to http://psychiatryonline.org.proxy.lib.umich.edu/data/Journals/NP/3935/1.pdf..."
       ]
      },
      {
       "output_type": "stream",
       "stream": "stdout",
       "text": [
        "\n",
        "Browsing to http://www.ncbi.nlm.nih.gov/pmc/articles/pmid/16525064..."
       ]
      },
      {
       "output_type": "stream",
       "stream": "stdout",
       "text": [
        "\n",
        "HTTP Error 404: Not Found, Retrying in 3 seconds..."
       ]
      },
      {
       "output_type": "stream",
       "stream": "stdout",
       "text": [
        "\n",
        "Browsing to http://www.ncbi.nlm.nih.gov/pmc/articles/pmid/16525064..."
       ]
      },
      {
       "output_type": "stream",
       "stream": "stdout",
       "text": [
        "\n",
        "HTTP Error 404: Not Found, Retrying in 6 seconds..."
       ]
      },
      {
       "output_type": "stream",
       "stream": "stdout",
       "text": [
        "\n",
        "Browsing to http://www.ncbi.nlm.nih.gov/pmc/articles/pmid/16525064..."
       ]
      },
      {
       "output_type": "stream",
       "stream": "stdout",
       "text": [
        "\n",
        "HTTP Error 404: Not Found, Retrying in 12 seconds..."
       ]
      },
      {
       "output_type": "stream",
       "stream": "stdout",
       "text": [
        "\n",
        "Browsing to http://www.ncbi.nlm.nih.gov/pmc/articles/pmid/16525064..."
       ]
      },
      {
       "output_type": "stream",
       "stream": "stdout",
       "text": [
        "\n",
        "Browsing to http://ar.iiarjournals.org/content/31/2/387.full.pdf..."
       ]
      },
      {
       "output_type": "stream",
       "stream": "stdout",
       "text": [
        "\n",
        "Browsing to http://ar.iiarjournals.org/content/31/2/387.full..."
       ]
      },
      {
       "output_type": "stream",
       "stream": "stdout",
       "text": [
        "\n",
        "Browsing to http://www.ncbi.nlm.nih.gov/pmc/articles/pmid/21378316..."
       ]
      },
      {
       "output_type": "stream",
       "stream": "stdout",
       "text": [
        "\n",
        "Browsing to https://www-thieme-connect-com.proxy.lib.umich.edu/ejournals/pdf/10.1055/s-2008-1071331.pdf..."
       ]
      },
      {
       "output_type": "stream",
       "stream": "stdout",
       "text": [
        "\n",
        "Bad document, Retrying in 3 seconds..."
       ]
      },
      {
       "output_type": "stream",
       "stream": "stdout",
       "text": [
        "\n",
        "Browsing to https://www-thieme-connect-com.proxy.lib.umich.edu/ejournals/pdf/10.1055/s-2008-1071331.pdf..."
       ]
      },
      {
       "output_type": "stream",
       "stream": "stdout",
       "text": [
        "\n",
        "Bad document, Retrying in 6 seconds..."
       ]
      },
      {
       "output_type": "stream",
       "stream": "stdout",
       "text": [
        "\n",
        "Browsing to https://www-thieme-connect-com.proxy.lib.umich.edu/ejournals/pdf/10.1055/s-2008-1071331.pdf..."
       ]
      },
      {
       "output_type": "stream",
       "stream": "stdout",
       "text": [
        "\n",
        "Bad document, Retrying in 12 seconds..."
       ]
      },
      {
       "output_type": "stream",
       "stream": "stdout",
       "text": [
        "\n",
        "Browsing to https://www-thieme-connect-com.proxy.lib.umich.edu/ejournals/pdf/10.1055/s-2008-1071331.pdf..."
       ]
      },
      {
       "output_type": "stream",
       "stream": "stdout",
       "text": [
        "\n",
        "No access, Retrying in 3 seconds..."
       ]
      },
      {
       "output_type": "stream",
       "stream": "stdout",
       "text": [
        "\n",
        "No access, Retrying in 6 seconds..."
       ]
      },
      {
       "output_type": "stream",
       "stream": "stdout",
       "text": [
        "\n",
        "No access, Retrying in 12 seconds..."
       ]
      },
      {
       "output_type": "stream",
       "stream": "stdout",
       "text": [
        "\n",
        "Browsing to http://www.ncbi.nlm.nih.gov/pmc/articles/pmid/1641082..."
       ]
      },
      {
       "output_type": "stream",
       "stream": "stdout",
       "text": [
        "\n",
        "HTTP Error 404: Not Found, Retrying in 3 seconds..."
       ]
      },
      {
       "output_type": "stream",
       "stream": "stdout",
       "text": [
        "\n",
        "Browsing to http://www.ncbi.nlm.nih.gov/pmc/articles/pmid/1641082..."
       ]
      },
      {
       "output_type": "stream",
       "stream": "stdout",
       "text": [
        "\n",
        "HTTP Error 404: Not Found, Retrying in 6 seconds..."
       ]
      },
      {
       "output_type": "stream",
       "stream": "stdout",
       "text": [
        "\n",
        "Browsing to http://www.ncbi.nlm.nih.gov/pmc/articles/pmid/1641082..."
       ]
      },
      {
       "output_type": "stream",
       "stream": "stdout",
       "text": [
        "\n",
        "HTTP Error 404: Not Found, Retrying in 12 seconds..."
       ]
      },
      {
       "output_type": "stream",
       "stream": "stdout",
       "text": [
        "\n",
        "Browsing to http://www.ncbi.nlm.nih.gov/pmc/articles/pmid/1641082..."
       ]
      },
      {
       "output_type": "stream",
       "stream": "stdout",
       "text": [
        "\n",
        "No access, Retrying in 3 seconds..."
       ]
      },
      {
       "output_type": "stream",
       "stream": "stdout",
       "text": [
        "\n",
        "No access, Retrying in 6 seconds..."
       ]
      },
      {
       "output_type": "stream",
       "stream": "stdout",
       "text": [
        "\n",
        "No access, Retrying in 12 seconds..."
       ]
      },
      {
       "output_type": "stream",
       "stream": "stdout",
       "text": [
        "\n",
        "Browsing to http://journals.lww.com/retinajournal/Fulltext/1995/15040/MRI_of_the_Eye_and_Orbit.36.aspx..."
       ]
      },
      {
       "output_type": "stream",
       "stream": "stdout",
       "text": [
        "\n",
        "No access, Retrying in 3 seconds..."
       ]
      },
      {
       "output_type": "stream",
       "stream": "stdout",
       "text": [
        "\n",
        "No access, Retrying in 6 seconds..."
       ]
      },
      {
       "output_type": "stream",
       "stream": "stdout",
       "text": [
        "\n",
        "No access, Retrying in 12 seconds..."
       ]
      },
      {
       "output_type": "stream",
       "stream": "stdout",
       "text": [
        "\n",
        "Browsing to http://www.ncbi.nlm.nih.gov/pmc/articles/pmid/8919133..."
       ]
      },
      {
       "output_type": "stream",
       "stream": "stdout",
       "text": [
        "\n",
        "HTTP Error 404: Not Found, Retrying in 3 seconds..."
       ]
      },
      {
       "output_type": "stream",
       "stream": "stdout",
       "text": [
        "\n",
        "Browsing to http://www.ncbi.nlm.nih.gov/pmc/articles/pmid/8919133..."
       ]
      },
      {
       "output_type": "stream",
       "stream": "stdout",
       "text": [
        "\n",
        "HTTP Error 404: Not Found, Retrying in 6 seconds..."
       ]
      },
      {
       "output_type": "stream",
       "stream": "stdout",
       "text": [
        "\n",
        "Browsing to http://www.ncbi.nlm.nih.gov/pmc/articles/pmid/8919133..."
       ]
      },
      {
       "output_type": "stream",
       "stream": "stdout",
       "text": [
        "\n",
        "HTTP Error 404: Not Found, Retrying in 12 seconds..."
       ]
      },
      {
       "output_type": "stream",
       "stream": "stdout",
       "text": [
        "\n",
        "Browsing to http://www.ncbi.nlm.nih.gov/pmc/articles/pmid/8919133..."
       ]
      },
      {
       "output_type": "stream",
       "stream": "stdout",
       "text": [
        "\n",
        "Browsing to http://link.springer.com.proxy.lib.umich.edu/content/pdf/10.1007%2Fs00701-011-1215-y.pdf..."
       ]
      },
      {
       "output_type": "stream",
       "stream": "stdout",
       "text": [
        "\n",
        "Browsing to http://link.springer.com.proxy.lib.umich.edu/article/10.1007/s00701-011-1215-y/fulltext.html..."
       ]
      },
      {
       "output_type": "stream",
       "stream": "stdout",
       "text": [
        "\n",
        "Browsing to http://www.ncbi.nlm.nih.gov/pmc/articles/pmid/22075730..."
       ]
      },
      {
       "output_type": "stream",
       "stream": "stdout",
       "text": [
        "\n",
        "HTTP Error 404: Not Found, Retrying in 3 seconds..."
       ]
      },
      {
       "output_type": "stream",
       "stream": "stdout",
       "text": [
        "\n",
        "Browsing to http://www.ncbi.nlm.nih.gov/pmc/articles/pmid/22075730..."
       ]
      },
      {
       "output_type": "stream",
       "stream": "stdout",
       "text": [
        "\n",
        "HTTP Error 404: Not Found, Retrying in 6 seconds..."
       ]
      },
      {
       "output_type": "stream",
       "stream": "stdout",
       "text": [
        "\n",
        "Browsing to http://www.ncbi.nlm.nih.gov/pmc/articles/pmid/22075730..."
       ]
      },
      {
       "output_type": "stream",
       "stream": "stdout",
       "text": [
        "\n",
        "HTTP Error 404: Not Found, Retrying in 12 seconds..."
       ]
      },
      {
       "output_type": "stream",
       "stream": "stdout",
       "text": [
        "\n",
        "Browsing to http://www.ncbi.nlm.nih.gov/pmc/articles/pmid/22075730..."
       ]
      },
      {
       "output_type": "stream",
       "stream": "stdout",
       "text": [
        "\n",
        "Bad document, Retrying in 3 seconds..."
       ]
      },
      {
       "output_type": "stream",
       "stream": "stdout",
       "text": [
        "\n",
        "Bad document, Retrying in 6 seconds..."
       ]
      },
      {
       "output_type": "stream",
       "stream": "stdout",
       "text": [
        "\n",
        "Bad document, Retrying in 12 seconds..."
       ]
      },
      {
       "output_type": "stream",
       "stream": "stdout",
       "text": [
        "\n",
        "Browsing to http://www.ncbi.nlm.nih.gov/pmc/articles/pmid/22047383..."
       ]
      },
      {
       "output_type": "stream",
       "stream": "stdout",
       "text": [
        "\n",
        "HTTP Error 404: Not Found, Retrying in 3 seconds..."
       ]
      },
      {
       "output_type": "stream",
       "stream": "stdout",
       "text": [
        "\n",
        "Browsing to http://www.ncbi.nlm.nih.gov/pmc/articles/pmid/22047383..."
       ]
      },
      {
       "output_type": "stream",
       "stream": "stdout",
       "text": [
        "\n",
        "HTTP Error 404: Not Found, Retrying in 6 seconds..."
       ]
      },
      {
       "output_type": "stream",
       "stream": "stdout",
       "text": [
        "\n",
        "Browsing to http://www.ncbi.nlm.nih.gov/pmc/articles/pmid/22047383..."
       ]
      },
      {
       "output_type": "stream",
       "stream": "stdout",
       "text": [
        "\n",
        "HTTP Error 404: Not Found, Retrying in 12 seconds..."
       ]
      },
      {
       "output_type": "stream",
       "stream": "stdout",
       "text": [
        "\n",
        "Browsing to http://www.ncbi.nlm.nih.gov/pmc/articles/pmid/22047383..."
       ]
      },
      {
       "output_type": "stream",
       "stream": "stdout",
       "text": [
        "\n",
        "Browsing to http://archneur.jamanetwork.com.proxy.lib.umich.edu/data/Journals/NEUR/12052/NOC40444.pdf..."
       ]
      },
      {
       "output_type": "stream",
       "stream": "stdout",
       "text": [
        "\n",
        "Browsing to http://www.ncbi.nlm.nih.gov/pmc/articles/pmid/16344345..."
       ]
      },
      {
       "output_type": "stream",
       "stream": "stdout",
       "text": [
        "\n",
        "HTTP Error 404: Not Found, Retrying in 3 seconds..."
       ]
      },
      {
       "output_type": "stream",
       "stream": "stdout",
       "text": [
        "\n",
        "Browsing to http://www.ncbi.nlm.nih.gov/pmc/articles/pmid/16344345..."
       ]
      },
      {
       "output_type": "stream",
       "stream": "stdout",
       "text": [
        "\n",
        "HTTP Error 404: Not Found, Retrying in 6 seconds..."
       ]
      },
      {
       "output_type": "stream",
       "stream": "stdout",
       "text": [
        "\n",
        "Browsing to http://www.ncbi.nlm.nih.gov/pmc/articles/pmid/16344345..."
       ]
      },
      {
       "output_type": "stream",
       "stream": "stdout",
       "text": [
        "\n",
        "HTTP Error 404: Not Found, Retrying in 12 seconds..."
       ]
      },
      {
       "output_type": "stream",
       "stream": "stdout",
       "text": [
        "\n",
        "Browsing to http://www.ncbi.nlm.nih.gov/pmc/articles/pmid/16344345..."
       ]
      },
      {
       "output_type": "stream",
       "stream": "stdout",
       "text": [
        "\n",
        "Browsing to http://archneur.jamanetwork.com.proxy.lib.umich.edu/data/Journals/NEUR/12052/NOC50022.pdf..."
       ]
      },
      {
       "output_type": "stream",
       "stream": "stdout",
       "text": [
        "\n",
        "Browsing to http://www.ncbi.nlm.nih.gov/pmc/articles/pmid/16344344..."
       ]
      },
      {
       "output_type": "stream",
       "stream": "stdout",
       "text": [
        "\n",
        "HTTP Error 404: Not Found, Retrying in 3 seconds..."
       ]
      },
      {
       "output_type": "stream",
       "stream": "stdout",
       "text": [
        "\n",
        "Browsing to http://www.ncbi.nlm.nih.gov/pmc/articles/pmid/16344344..."
       ]
      },
      {
       "output_type": "stream",
       "stream": "stdout",
       "text": [
        "\n",
        "HTTP Error 404: Not Found, Retrying in 6 seconds..."
       ]
      },
      {
       "output_type": "stream",
       "stream": "stdout",
       "text": [
        "\n",
        "Browsing to http://www.ncbi.nlm.nih.gov/pmc/articles/pmid/16344344..."
       ]
      },
      {
       "output_type": "stream",
       "stream": "stdout",
       "text": [
        "\n",
        "HTTP Error 404: Not Found, Retrying in 12 seconds..."
       ]
      },
      {
       "output_type": "stream",
       "stream": "stdout",
       "text": [
        "\n",
        "Browsing to http://www.ncbi.nlm.nih.gov/pmc/articles/pmid/16344344..."
       ]
      },
      {
       "output_type": "stream",
       "stream": "stdout",
       "text": [
        "\n",
        "Browsing to http://onlinelibrary.wiley.com.proxy.lib.umich.edu/doi/10.1002/mrm.10356/pdf..."
       ]
      },
      {
       "output_type": "stream",
       "stream": "stdout",
       "text": [
        "\n",
        "Browsing to http://onlinelibrary.wiley.com.proxy.lib.umich.edu/doi/10.1002/mrm.10356/full..."
       ]
      },
      {
       "output_type": "stream",
       "stream": "stdout",
       "text": [
        "\n",
        "Browsing to http://www.ncbi.nlm.nih.gov/pmc/articles/pmid/12509834..."
       ]
      },
      {
       "output_type": "stream",
       "stream": "stdout",
       "text": [
        "\n",
        "HTTP Error 404: Not Found, Retrying in 3 seconds..."
       ]
      },
      {
       "output_type": "stream",
       "stream": "stdout",
       "text": [
        "\n",
        "Browsing to http://www.ncbi.nlm.nih.gov/pmc/articles/pmid/12509834..."
       ]
      },
      {
       "output_type": "stream",
       "stream": "stdout",
       "text": [
        "\n",
        "HTTP Error 404: Not Found, Retrying in 6 seconds..."
       ]
      },
      {
       "output_type": "stream",
       "stream": "stdout",
       "text": [
        "\n",
        "Browsing to http://www.ncbi.nlm.nih.gov/pmc/articles/pmid/12509834..."
       ]
      },
      {
       "output_type": "stream",
       "stream": "stdout",
       "text": [
        "\n",
        "HTTP Error 404: Not Found, Retrying in 12 seconds..."
       ]
      },
      {
       "output_type": "stream",
       "stream": "stdout",
       "text": [
        "\n",
        "Browsing to http://www.ncbi.nlm.nih.gov/pmc/articles/pmid/12509834..."
       ]
      },
      {
       "output_type": "stream",
       "stream": "stdout",
       "text": [
        "\n",
        "Browsing to http://onlinelibrary.wiley.com.proxy.lib.umich.edu/doi/10.1002/mrm.10308/pdf..."
       ]
      },
      {
       "output_type": "stream",
       "stream": "stdout",
       "text": [
        "\n",
        "Browsing to http://onlinelibrary.wiley.com.proxy.lib.umich.edu/doi/10.1002/mrm.10308/full..."
       ]
      },
      {
       "output_type": "stream",
       "stream": "stdout",
       "text": [
        "\n",
        "Browsing to http://www.ncbi.nlm.nih.gov/pmc/articles/pmid/12509835..."
       ]
      },
      {
       "output_type": "stream",
       "stream": "stdout",
       "text": [
        "\n",
        "HTTP Error 404: Not Found, Retrying in 3 seconds..."
       ]
      },
      {
       "output_type": "stream",
       "stream": "stdout",
       "text": [
        "\n",
        "Browsing to http://www.ncbi.nlm.nih.gov/pmc/articles/pmid/12509835..."
       ]
      },
      {
       "output_type": "stream",
       "stream": "stdout",
       "text": [
        "\n",
        "HTTP Error 404: Not Found, Retrying in 6 seconds..."
       ]
      },
      {
       "output_type": "stream",
       "stream": "stdout",
       "text": [
        "\n",
        "Browsing to http://www.ncbi.nlm.nih.gov/pmc/articles/pmid/12509835..."
       ]
      },
      {
       "output_type": "stream",
       "stream": "stdout",
       "text": [
        "\n",
        "HTTP Error 404: Not Found, Retrying in 12 seconds..."
       ]
      },
      {
       "output_type": "stream",
       "stream": "stdout",
       "text": [
        "\n",
        "Browsing to http://www.ncbi.nlm.nih.gov/pmc/articles/pmid/12509835..."
       ]
      },
      {
       "output_type": "stream",
       "stream": "stdout",
       "text": [
        "\n",
        "Browsing to http://archneur.jamanetwork.com.proxy.lib.umich.edu/data/Journals/NEUR/12052/NOB40250.pdf..."
       ]
      },
      {
       "output_type": "stream",
       "stream": "stdout",
       "text": [
        "\n",
        "Browsing to http://www.ncbi.nlm.nih.gov/pmc/articles/pmid/16344349..."
       ]
      },
      {
       "output_type": "stream",
       "stream": "stdout",
       "text": [
        "\n",
        "HTTP Error 404: Not Found, Retrying in 3 seconds..."
       ]
      },
      {
       "output_type": "stream",
       "stream": "stdout",
       "text": [
        "\n",
        "Browsing to http://www.ncbi.nlm.nih.gov/pmc/articles/pmid/16344349..."
       ]
      },
      {
       "output_type": "stream",
       "stream": "stdout",
       "text": [
        "\n",
        "HTTP Error 404: Not Found, Retrying in 6 seconds..."
       ]
      },
      {
       "output_type": "stream",
       "stream": "stdout",
       "text": [
        "\n",
        "Browsing to http://www.ncbi.nlm.nih.gov/pmc/articles/pmid/16344349..."
       ]
      },
      {
       "output_type": "stream",
       "stream": "stdout",
       "text": [
        "\n",
        "HTTP Error 404: Not Found, Retrying in 12 seconds..."
       ]
      },
      {
       "output_type": "stream",
       "stream": "stdout",
       "text": [
        "\n",
        "Browsing to http://www.ncbi.nlm.nih.gov/pmc/articles/pmid/16344349..."
       ]
      },
      {
       "output_type": "stream",
       "stream": "stdout",
       "text": [
        "\n",
        "Browsing to http://archneur.jamanetwork.com.proxy.lib.umich.edu/data/Journals/NEUR/12052/NOC50026.pdf..."
       ]
      },
      {
       "output_type": "stream",
       "stream": "stdout",
       "text": [
        "\n",
        "Browsing to http://www.ncbi.nlm.nih.gov/pmc/articles/pmid/16344348..."
       ]
      },
      {
       "output_type": "stream",
       "stream": "stdout",
       "text": [
        "\n",
        "HTTP Error 404: Not Found, Retrying in 3 seconds..."
       ]
      },
      {
       "output_type": "stream",
       "stream": "stdout",
       "text": [
        "\n",
        "Browsing to http://www.ncbi.nlm.nih.gov/pmc/articles/pmid/16344348..."
       ]
      },
      {
       "output_type": "stream",
       "stream": "stdout",
       "text": [
        "\n",
        "HTTP Error 404: Not Found, Retrying in 6 seconds..."
       ]
      },
      {
       "output_type": "stream",
       "stream": "stdout",
       "text": [
        "\n",
        "Browsing to http://www.ncbi.nlm.nih.gov/pmc/articles/pmid/16344348..."
       ]
      },
      {
       "output_type": "stream",
       "stream": "stdout",
       "text": [
        "\n",
        "HTTP Error 404: Not Found, Retrying in 12 seconds..."
       ]
      },
      {
       "output_type": "stream",
       "stream": "stdout",
       "text": [
        "\n",
        "Browsing to http://www.ncbi.nlm.nih.gov/pmc/articles/pmid/16344348..."
       ]
      },
      {
       "output_type": "stream",
       "stream": "stdout",
       "text": [
        "\n",
        "Browsing to http://onlinelibrary.wiley.com.proxy.lib.umich.edu/doi/10.1002/mrm.10353/pdf..."
       ]
      },
      {
       "output_type": "stream",
       "stream": "stdout",
       "text": [
        "\n",
        "Browsing to http://onlinelibrary.wiley.com.proxy.lib.umich.edu/doi/10.1002/mrm.10353/full..."
       ]
      },
      {
       "output_type": "stream",
       "stream": "stdout",
       "text": [
        "\n",
        "Browsing to http://www.ncbi.nlm.nih.gov/pmc/articles/pmid/12509830..."
       ]
      },
      {
       "output_type": "stream",
       "stream": "stdout",
       "text": [
        "\n",
        "HTTP Error 404: Not Found, Retrying in 3 seconds..."
       ]
      },
      {
       "output_type": "stream",
       "stream": "stdout",
       "text": [
        "\n",
        "Browsing to http://www.ncbi.nlm.nih.gov/pmc/articles/pmid/12509830..."
       ]
      },
      {
       "output_type": "stream",
       "stream": "stdout",
       "text": [
        "\n",
        "HTTP Error 404: Not Found, Retrying in 6 seconds..."
       ]
      },
      {
       "output_type": "stream",
       "stream": "stdout",
       "text": [
        "\n",
        "Browsing to http://www.ncbi.nlm.nih.gov/pmc/articles/pmid/12509830..."
       ]
      },
      {
       "output_type": "stream",
       "stream": "stdout",
       "text": [
        "\n",
        "HTTP Error 404: Not Found, Retrying in 12 seconds..."
       ]
      },
      {
       "output_type": "stream",
       "stream": "stdout",
       "text": [
        "\n",
        "Browsing to http://www.ncbi.nlm.nih.gov/pmc/articles/pmid/12509830..."
       ]
      },
      {
       "output_type": "stream",
       "stream": "stdout",
       "text": [
        "\n",
        "Browsing to http://adc.bmj.com.proxy.lib.umich.edu/content/92/6/498.full.pdf..."
       ]
      },
      {
       "output_type": "stream",
       "stream": "stdout",
       "text": [
        "\n",
        "Browsing to http://adc.bmj.com.proxy.lib.umich.edu/content/92/6/498.full..."
       ]
      },
      {
       "output_type": "stream",
       "stream": "stdout",
       "text": [
        "\n",
        "Browsing to http://www.ncbi.nlm.nih.gov/pmc/articles/pmid/17515619..."
       ]
      },
      {
       "output_type": "stream",
       "stream": "stdout",
       "text": [
        "\n",
        "Browsing to http://onlinelibrary.wiley.com.proxy.lib.umich.edu/doi/10.1002/mrm.10326/pdf..."
       ]
      },
      {
       "output_type": "stream",
       "stream": "stdout",
       "text": [
        "\n",
        "Browsing to http://onlinelibrary.wiley.com.proxy.lib.umich.edu/doi/10.1002/mrm.10326/full..."
       ]
      },
      {
       "output_type": "stream",
       "stream": "stdout",
       "text": [
        "\n",
        "Browsing to http://www.ncbi.nlm.nih.gov/pmc/articles/pmid/12509832..."
       ]
      },
      {
       "output_type": "stream",
       "stream": "stdout",
       "text": [
        "\n",
        "HTTP Error 404: Not Found, Retrying in 3 seconds..."
       ]
      },
      {
       "output_type": "stream",
       "stream": "stdout",
       "text": [
        "\n",
        "Browsing to http://www.ncbi.nlm.nih.gov/pmc/articles/pmid/12509832..."
       ]
      },
      {
       "output_type": "stream",
       "stream": "stdout",
       "text": [
        "\n",
        "HTTP Error 404: Not Found, Retrying in 6 seconds..."
       ]
      },
      {
       "output_type": "stream",
       "stream": "stdout",
       "text": [
        "\n",
        "Browsing to http://www.ncbi.nlm.nih.gov/pmc/articles/pmid/12509832..."
       ]
      },
      {
       "output_type": "stream",
       "stream": "stdout",
       "text": [
        "\n",
        "HTTP Error 404: Not Found, Retrying in 12 seconds..."
       ]
      },
      {
       "output_type": "stream",
       "stream": "stdout",
       "text": [
        "\n",
        "Browsing to http://www.ncbi.nlm.nih.gov/pmc/articles/pmid/12509832..."
       ]
      },
      {
       "output_type": "stream",
       "stream": "stdout",
       "text": [
        "\n",
        "Browsing to http://onlinelibrary.wiley.com.proxy.lib.umich.edu/doi/10.1002/mrm.10324/pdf..."
       ]
      },
      {
       "output_type": "stream",
       "stream": "stdout",
       "text": [
        "\n",
        "Browsing to http://onlinelibrary.wiley.com.proxy.lib.umich.edu/doi/10.1002/mrm.10324/full..."
       ]
      },
      {
       "output_type": "stream",
       "stream": "stdout",
       "text": [
        "\n",
        "Browsing to http://www.ncbi.nlm.nih.gov/pmc/articles/pmid/12509833..."
       ]
      },
      {
       "output_type": "stream",
       "stream": "stdout",
       "text": [
        "\n",
        "HTTP Error 404: Not Found, Retrying in 3 seconds..."
       ]
      },
      {
       "output_type": "stream",
       "stream": "stdout",
       "text": [
        "\n",
        "Browsing to http://www.ncbi.nlm.nih.gov/pmc/articles/pmid/12509833..."
       ]
      },
      {
       "output_type": "stream",
       "stream": "stdout",
       "text": [
        "\n",
        "HTTP Error 404: Not Found, Retrying in 6 seconds..."
       ]
      },
      {
       "output_type": "stream",
       "stream": "stdout",
       "text": [
        "\n",
        "Browsing to http://www.ncbi.nlm.nih.gov/pmc/articles/pmid/12509833..."
       ]
      },
      {
       "output_type": "stream",
       "stream": "stdout",
       "text": [
        "\n",
        "HTTP Error 404: Not Found, Retrying in 12 seconds..."
       ]
      },
      {
       "output_type": "stream",
       "stream": "stdout",
       "text": [
        "\n",
        "Browsing to http://www.ncbi.nlm.nih.gov/pmc/articles/pmid/12509833..."
       ]
      },
      {
       "output_type": "stream",
       "stream": "stdout",
       "text": [
        "\n",
        "Bad document, Retrying in 3 seconds..."
       ]
      },
      {
       "output_type": "stream",
       "stream": "stdout",
       "text": [
        "\n",
        "Bad document, Retrying in 6 seconds..."
       ]
      },
      {
       "output_type": "stream",
       "stream": "stdout",
       "text": [
        "\n",
        "Bad document, Retrying in 12 seconds..."
       ]
      },
      {
       "output_type": "stream",
       "stream": "stdout",
       "text": [
        "\n",
        "Browsing to http://www.ncbi.nlm.nih.gov/pmc/articles/pmid/22562928..."
       ]
      },
      {
       "output_type": "stream",
       "stream": "stdout",
       "text": [
        "\n",
        "HTTP Error 404: Not Found, Retrying in 3 seconds..."
       ]
      },
      {
       "output_type": "stream",
       "stream": "stdout",
       "text": [
        "\n",
        "Browsing to http://www.ncbi.nlm.nih.gov/pmc/articles/pmid/22562928..."
       ]
      },
      {
       "output_type": "stream",
       "stream": "stdout",
       "text": [
        "\n",
        "HTTP Error 404: Not Found, Retrying in 6 seconds..."
       ]
      },
      {
       "output_type": "stream",
       "stream": "stdout",
       "text": [
        "\n",
        "Browsing to http://www.ncbi.nlm.nih.gov/pmc/articles/pmid/22562928..."
       ]
      },
      {
       "output_type": "stream",
       "stream": "stdout",
       "text": [
        "\n",
        "HTTP Error 404: Not Found, Retrying in 12 seconds..."
       ]
      },
      {
       "output_type": "stream",
       "stream": "stdout",
       "text": [
        "\n",
        "Browsing to http://www.ncbi.nlm.nih.gov/pmc/articles/pmid/22562928..."
       ]
      },
      {
       "output_type": "stream",
       "stream": "stdout",
       "text": [
        "\n",
        "Browsing to http://onlinelibrary.wiley.com.proxy.lib.umich.edu/doi/10.1111/j.1600-0404.2008.01026.x/pdf..."
       ]
      },
      {
       "output_type": "stream",
       "stream": "stdout",
       "text": [
        "\n",
        "Browsing to http://onlinelibrary.wiley.com.proxy.lib.umich.edu/doi/10.1111/j.1600-0404.2008.01026.x/full..."
       ]
      },
      {
       "output_type": "stream",
       "stream": "stdout",
       "text": [
        "\n",
        "Browsing to http://www.ncbi.nlm.nih.gov/pmc/articles/pmid/18439216..."
       ]
      },
      {
       "output_type": "stream",
       "stream": "stdout",
       "text": [
        "\n",
        "HTTP Error 404: Not Found, Retrying in 3 seconds..."
       ]
      },
      {
       "output_type": "stream",
       "stream": "stdout",
       "text": [
        "\n",
        "Browsing to http://www.ncbi.nlm.nih.gov/pmc/articles/pmid/18439216..."
       ]
      },
      {
       "output_type": "stream",
       "stream": "stdout",
       "text": [
        "\n",
        "HTTP Error 404: Not Found, Retrying in 6 seconds..."
       ]
      },
      {
       "output_type": "stream",
       "stream": "stdout",
       "text": [
        "\n",
        "Browsing to http://www.ncbi.nlm.nih.gov/pmc/articles/pmid/18439216..."
       ]
      },
      {
       "output_type": "stream",
       "stream": "stdout",
       "text": [
        "\n",
        "HTTP Error 404: Not Found, Retrying in 12 seconds..."
       ]
      },
      {
       "output_type": "stream",
       "stream": "stdout",
       "text": [
        "\n",
        "Browsing to http://www.ncbi.nlm.nih.gov/pmc/articles/pmid/18439216..."
       ]
      },
      {
       "output_type": "stream",
       "stream": "stdout",
       "text": [
        "\n",
        "Browsing to http://www.sciencedirect.com.proxy.lib.umich.edu/science/article/pii/S0021979710001645/pdfft?md5=96029f649f80a620acb6def281213dae&pid=1-s2.0-S0021979710001645-main.pdf..."
       ]
      },
      {
       "output_type": "stream",
       "stream": "stdout",
       "text": [
        "\n",
        "Browsing to http://www.sciencedirect.com.proxy.lib.umich.edu/science/article/pii/S0021979710001645?np=y..."
       ]
      },
      {
       "output_type": "stream",
       "stream": "stdout",
       "text": [
        "\n",
        "Browsing to http://www.ncbi.nlm.nih.gov/pmc/articles/pmid/20223468..."
       ]
      },
      {
       "output_type": "stream",
       "stream": "stdout",
       "text": [
        "\n",
        "HTTP Error 404: Not Found, Retrying in 3 seconds..."
       ]
      },
      {
       "output_type": "stream",
       "stream": "stdout",
       "text": [
        "\n",
        "Browsing to http://www.ncbi.nlm.nih.gov/pmc/articles/pmid/20223468..."
       ]
      },
      {
       "output_type": "stream",
       "stream": "stdout",
       "text": [
        "\n",
        "HTTP Error 404: Not Found, Retrying in 6 seconds..."
       ]
      },
      {
       "output_type": "stream",
       "stream": "stdout",
       "text": [
        "\n",
        "Browsing to http://www.ncbi.nlm.nih.gov/pmc/articles/pmid/20223468..."
       ]
      },
      {
       "output_type": "stream",
       "stream": "stdout",
       "text": [
        "\n",
        "HTTP Error 404: Not Found, Retrying in 12 seconds..."
       ]
      },
      {
       "output_type": "stream",
       "stream": "stdout",
       "text": [
        "\n",
        "Browsing to http://www.ncbi.nlm.nih.gov/pmc/articles/pmid/20223468..."
       ]
      },
      {
       "output_type": "stream",
       "stream": "stdout",
       "text": [
        "\n",
        "Browsing to http://www.sciencedirect.com.proxy.lib.umich.edu/science/article/pii/S1936878X12002720/pdfft?md5=e03b93580326be89e71543bd5c8397d0&pid=1-s2.0-S1936878X12002720-main.pdf..."
       ]
      },
      {
       "output_type": "stream",
       "stream": "stdout",
       "text": [
        "\n",
        "Browsing to http://www.sciencedirect.com.proxy.lib.umich.edu/science/article/pii/S1936878X12002720?np=y..."
       ]
      },
      {
       "output_type": "stream",
       "stream": "stdout",
       "text": [
        "\n",
        "Browsing to http://www.ncbi.nlm.nih.gov/pmc/articles/pmid/22595159..."
       ]
      },
      {
       "output_type": "stream",
       "stream": "stdout",
       "text": [
        "\n",
        "HTTP Error 404: Not Found, Retrying in 3 seconds..."
       ]
      },
      {
       "output_type": "stream",
       "stream": "stdout",
       "text": [
        "\n",
        "Browsing to http://www.ncbi.nlm.nih.gov/pmc/articles/pmid/22595159..."
       ]
      },
      {
       "output_type": "stream",
       "stream": "stdout",
       "text": [
        "\n",
        "HTTP Error 404: Not Found, Retrying in 6 seconds..."
       ]
      },
      {
       "output_type": "stream",
       "stream": "stdout",
       "text": [
        "\n",
        "Browsing to http://www.ncbi.nlm.nih.gov/pmc/articles/pmid/22595159..."
       ]
      },
      {
       "output_type": "stream",
       "stream": "stdout",
       "text": [
        "\n",
        "HTTP Error 404: Not Found, Retrying in 12 seconds..."
       ]
      },
      {
       "output_type": "stream",
       "stream": "stdout",
       "text": [
        "\n",
        "Browsing to http://www.ncbi.nlm.nih.gov/pmc/articles/pmid/22595159..."
       ]
      },
      {
       "output_type": "stream",
       "stream": "stdout",
       "text": [
        "\n",
        "Browsing to http://www.sciencedirect.com.proxy.lib.umich.edu/science/article/pii/S1936878X12003087/pdfft?md5=efd4fae978e912dd13b347548f35dc2a&pid=1-s2.0-S1936878X12003087-main.pdf..."
       ]
      },
      {
       "output_type": "stream",
       "stream": "stdout",
       "text": [
        "\n",
        "Browsing to http://www.sciencedirect.com.proxy.lib.umich.edu/science/article/pii/S1936878X12003087?np=y..."
       ]
      },
      {
       "output_type": "stream",
       "stream": "stdout",
       "text": [
        "\n",
        "Browsing to http://www.ncbi.nlm.nih.gov/pmc/articles/pmid/22595158..."
       ]
      },
      {
       "output_type": "stream",
       "stream": "stdout",
       "text": [
        "\n",
        "HTTP Error 404: Not Found, Retrying in 3 seconds..."
       ]
      },
      {
       "output_type": "stream",
       "stream": "stdout",
       "text": [
        "\n",
        "Browsing to http://www.ncbi.nlm.nih.gov/pmc/articles/pmid/22595158..."
       ]
      },
      {
       "output_type": "stream",
       "stream": "stdout",
       "text": [
        "\n",
        "HTTP Error 404: Not Found, Retrying in 6 seconds..."
       ]
      },
      {
       "output_type": "stream",
       "stream": "stdout",
       "text": [
        "\n",
        "Browsing to http://www.ncbi.nlm.nih.gov/pmc/articles/pmid/22595158..."
       ]
      },
      {
       "output_type": "stream",
       "stream": "stdout",
       "text": [
        "\n",
        "HTTP Error 404: Not Found, Retrying in 12 seconds..."
       ]
      },
      {
       "output_type": "stream",
       "stream": "stdout",
       "text": [
        "\n",
        "Browsing to http://www.ncbi.nlm.nih.gov/pmc/articles/pmid/22595158..."
       ]
      },
      {
       "output_type": "stream",
       "stream": "stdout",
       "text": [
        "\n",
        "Browsing to http://www.sciencedirect.com.proxy.lib.umich.edu/science/article/pii/S1936878X12002756/pdfft?md5=4d27d64718efca883faab3b95daec602&pid=1-s2.0-S1936878X12002756-main.pdf..."
       ]
      },
      {
       "output_type": "stream",
       "stream": "stdout",
       "text": [
        "\n",
        "Browsing to http://www.sciencedirect.com.proxy.lib.umich.edu/science/article/pii/S1936878X12002756?np=y..."
       ]
      },
      {
       "output_type": "stream",
       "stream": "stdout",
       "text": [
        "\n",
        "Browsing to http://www.ncbi.nlm.nih.gov/pmc/articles/pmid/22595157..."
       ]
      },
      {
       "output_type": "stream",
       "stream": "stdout",
       "text": [
        "\n",
        "HTTP Error 404: Not Found, Retrying in 3 seconds..."
       ]
      },
      {
       "output_type": "stream",
       "stream": "stdout",
       "text": [
        "\n",
        "Browsing to http://www.ncbi.nlm.nih.gov/pmc/articles/pmid/22595157..."
       ]
      },
      {
       "output_type": "stream",
       "stream": "stdout",
       "text": [
        "\n",
        "HTTP Error 404: Not Found, Retrying in 6 seconds..."
       ]
      },
      {
       "output_type": "stream",
       "stream": "stdout",
       "text": [
        "\n",
        "Browsing to http://www.ncbi.nlm.nih.gov/pmc/articles/pmid/22595157..."
       ]
      },
      {
       "output_type": "stream",
       "stream": "stdout",
       "text": [
        "\n",
        "HTTP Error 404: Not Found, Retrying in 12 seconds..."
       ]
      },
      {
       "output_type": "stream",
       "stream": "stdout",
       "text": [
        "\n",
        "Browsing to http://www.ncbi.nlm.nih.gov/pmc/articles/pmid/22595157..."
       ]
      },
      {
       "output_type": "stream",
       "stream": "stdout",
       "text": [
        "\n",
        "Browsing to http://www.karger.com.proxy.lib.umich.edu/Article/Pdf/110492..."
       ]
      },
      {
       "output_type": "stream",
       "stream": "stdout",
       "text": [
        "\n",
        "Browsing to http://www.karger.com.proxy.lib.umich.edu/Article/FullText/110492..."
       ]
      },
      {
       "output_type": "stream",
       "stream": "stdout",
       "text": [
        "\n",
        "Browsing to http://www.ncbi.nlm.nih.gov/pmc/articles/pmid/17971662..."
       ]
      },
      {
       "output_type": "stream",
       "stream": "stdout",
       "text": [
        "\n",
        "HTTP Error 404: Not Found, Retrying in 3 seconds..."
       ]
      },
      {
       "output_type": "stream",
       "stream": "stdout",
       "text": [
        "\n",
        "Browsing to http://www.ncbi.nlm.nih.gov/pmc/articles/pmid/17971662..."
       ]
      },
      {
       "output_type": "stream",
       "stream": "stdout",
       "text": [
        "\n",
        "HTTP Error 404: Not Found, Retrying in 6 seconds..."
       ]
      },
      {
       "output_type": "stream",
       "stream": "stdout",
       "text": [
        "\n",
        "Browsing to http://www.ncbi.nlm.nih.gov/pmc/articles/pmid/17971662..."
       ]
      },
      {
       "output_type": "stream",
       "stream": "stdout",
       "text": [
        "\n",
        "HTTP Error 404: Not Found, Retrying in 12 seconds..."
       ]
      },
      {
       "output_type": "stream",
       "stream": "stdout",
       "text": [
        "\n",
        "Browsing to http://www.ncbi.nlm.nih.gov/pmc/articles/pmid/17971662..."
       ]
      },
      {
       "output_type": "stream",
       "stream": "stdout",
       "text": [
        "\n",
        "Browsing to http://onlinelibrary.wiley.com.proxy.lib.umich.edu/doi/10.1002/ana.410410502/pdf..."
       ]
      },
      {
       "output_type": "stream",
       "stream": "stdout",
       "text": [
        "\n",
        "Browsing to http://www.ncbi.nlm.nih.gov/pmc/articles/pmid/9153515..."
       ]
      },
      {
       "output_type": "stream",
       "stream": "stdout",
       "text": [
        "\n",
        "HTTP Error 404: Not Found, Retrying in 3 seconds..."
       ]
      },
      {
       "output_type": "stream",
       "stream": "stdout",
       "text": [
        "\n",
        "Browsing to http://www.ncbi.nlm.nih.gov/pmc/articles/pmid/9153515..."
       ]
      },
      {
       "output_type": "stream",
       "stream": "stdout",
       "text": [
        "\n",
        "HTTP Error 404: Not Found, Retrying in 6 seconds..."
       ]
      },
      {
       "output_type": "stream",
       "stream": "stdout",
       "text": [
        "\n",
        "Browsing to http://www.ncbi.nlm.nih.gov/pmc/articles/pmid/9153515..."
       ]
      },
      {
       "output_type": "stream",
       "stream": "stdout",
       "text": [
        "\n",
        "HTTP Error 404: Not Found, Retrying in 12 seconds..."
       ]
      },
      {
       "output_type": "stream",
       "stream": "stdout",
       "text": [
        "\n",
        "Browsing to http://www.ncbi.nlm.nih.gov/pmc/articles/pmid/9153515..."
       ]
      },
      {
       "output_type": "stream",
       "stream": "stdout",
       "text": [
        "\n",
        "Browsing to http://onlinelibrary.wiley.com.proxy.lib.umich.edu/doi/10.1002/cmmi.1502/pdf..."
       ]
      },
      {
       "output_type": "stream",
       "stream": "stdout",
       "text": [
        "\n",
        "Browsing to http://onlinelibrary.wiley.com.proxy.lib.umich.edu/doi/10.1002/cmmi.1502/full..."
       ]
      },
      {
       "output_type": "stream",
       "stream": "stdout",
       "text": [
        "\n",
        "Browsing to http://www.ncbi.nlm.nih.gov/pmc/articles/pmid/23281285..."
       ]
      },
      {
       "output_type": "stream",
       "stream": "stdout",
       "text": [
        "\n",
        "HTTP Error 404: Not Found, Retrying in 3 seconds..."
       ]
      },
      {
       "output_type": "stream",
       "stream": "stdout",
       "text": [
        "\n",
        "Browsing to http://www.ncbi.nlm.nih.gov/pmc/articles/pmid/23281285..."
       ]
      },
      {
       "output_type": "stream",
       "stream": "stdout",
       "text": [
        "\n",
        "HTTP Error 404: Not Found, Retrying in 6 seconds..."
       ]
      },
      {
       "output_type": "stream",
       "stream": "stdout",
       "text": [
        "\n",
        "Browsing to http://www.ncbi.nlm.nih.gov/pmc/articles/pmid/23281285..."
       ]
      },
      {
       "output_type": "stream",
       "stream": "stdout",
       "text": [
        "\n",
        "HTTP Error 404: Not Found, Retrying in 12 seconds..."
       ]
      },
      {
       "output_type": "stream",
       "stream": "stdout",
       "text": [
        "\n",
        "Browsing to http://www.ncbi.nlm.nih.gov/pmc/articles/pmid/23281285..."
       ]
      },
      {
       "output_type": "stream",
       "stream": "stdout",
       "text": [
        "\n",
        "Browsing to http://onlinelibrary.wiley.com.proxy.lib.umich.edu/doi/10.1002/hbm.20455/pdf..."
       ]
      },
      {
       "output_type": "stream",
       "stream": "stdout",
       "text": [
        "\n",
        "Browsing to http://onlinelibrary.wiley.com.proxy.lib.umich.edu/doi/10.1002/hbm.20455/full..."
       ]
      },
      {
       "output_type": "stream",
       "stream": "stdout",
       "text": [
        "\n",
        "Browsing to http://www.ncbi.nlm.nih.gov/pmc/articles/pmid/17894398..."
       ]
      },
      {
       "output_type": "stream",
       "stream": "stdout",
       "text": [
        "\n",
        "HTTP Error 404: Not Found, Retrying in 3 seconds..."
       ]
      },
      {
       "output_type": "stream",
       "stream": "stdout",
       "text": [
        "\n",
        "Browsing to http://www.ncbi.nlm.nih.gov/pmc/articles/pmid/17894398..."
       ]
      },
      {
       "output_type": "stream",
       "stream": "stdout",
       "text": [
        "\n",
        "HTTP Error 404: Not Found, Retrying in 6 seconds..."
       ]
      },
      {
       "output_type": "stream",
       "stream": "stdout",
       "text": [
        "\n",
        "Browsing to http://www.ncbi.nlm.nih.gov/pmc/articles/pmid/17894398..."
       ]
      },
      {
       "output_type": "stream",
       "stream": "stdout",
       "text": [
        "\n",
        "HTTP Error 404: Not Found, Retrying in 12 seconds..."
       ]
      },
      {
       "output_type": "stream",
       "stream": "stdout",
       "text": [
        "\n",
        "Browsing to http://www.ncbi.nlm.nih.gov/pmc/articles/pmid/17894398..."
       ]
      },
      {
       "output_type": "stream",
       "stream": "stdout",
       "text": [
        "\n",
        "Browsing to http://www.karger.com.proxy.lib.umich.edu/Article/Pdf/110577..."
       ]
      },
      {
       "output_type": "stream",
       "stream": "stdout",
       "text": [
        "\n",
        "Browsing to http://www.karger.com.proxy.lib.umich.edu/Article/FullText/110577..."
       ]
      },
      {
       "output_type": "stream",
       "stream": "stdout",
       "text": [
        "\n",
        "Browsing to http://www.ncbi.nlm.nih.gov/pmc/articles/pmid/17971665..."
       ]
      },
      {
       "output_type": "stream",
       "stream": "stdout",
       "text": [
        "\n",
        "HTTP Error 404: Not Found, Retrying in 3 seconds..."
       ]
      },
      {
       "output_type": "stream",
       "stream": "stdout",
       "text": [
        "\n",
        "Browsing to http://www.ncbi.nlm.nih.gov/pmc/articles/pmid/17971665..."
       ]
      },
      {
       "output_type": "stream",
       "stream": "stdout",
       "text": [
        "\n",
        "HTTP Error 404: Not Found, Retrying in 6 seconds..."
       ]
      },
      {
       "output_type": "stream",
       "stream": "stdout",
       "text": [
        "\n",
        "Browsing to http://www.ncbi.nlm.nih.gov/pmc/articles/pmid/17971665..."
       ]
      },
      {
       "output_type": "stream",
       "stream": "stdout",
       "text": [
        "\n",
        "HTTP Error 404: Not Found, Retrying in 12 seconds..."
       ]
      },
      {
       "output_type": "stream",
       "stream": "stdout",
       "text": [
        "\n",
        "Browsing to http://www.ncbi.nlm.nih.gov/pmc/articles/pmid/17971665..."
       ]
      },
      {
       "output_type": "stream",
       "stream": "stdout",
       "text": [
        "\n",
        "Browsing to http://link.springer.com.proxy.lib.umich.edu/content/pdf/10.1007%2Fs00167-011-1570-5.pdf..."
       ]
      },
      {
       "output_type": "stream",
       "stream": "stdout",
       "text": [
        "\n",
        "Browsing to http://link.springer.com.proxy.lib.umich.edu/article/10.1007/s00167-011-1570-5/fulltext.html..."
       ]
      },
      {
       "output_type": "stream",
       "stream": "stdout",
       "text": [
        "\n",
        "Browsing to http://www.ncbi.nlm.nih.gov/pmc/articles/pmid/21678095..."
       ]
      },
      {
       "output_type": "stream",
       "stream": "stdout",
       "text": [
        "\n",
        "HTTP Error 404: Not Found, Retrying in 3 seconds..."
       ]
      },
      {
       "output_type": "stream",
       "stream": "stdout",
       "text": [
        "\n",
        "Browsing to http://www.ncbi.nlm.nih.gov/pmc/articles/pmid/21678095..."
       ]
      },
      {
       "output_type": "stream",
       "stream": "stdout",
       "text": [
        "\n",
        "HTTP Error 404: Not Found, Retrying in 6 seconds..."
       ]
      },
      {
       "output_type": "stream",
       "stream": "stdout",
       "text": [
        "\n",
        "Browsing to http://www.ncbi.nlm.nih.gov/pmc/articles/pmid/21678095..."
       ]
      },
      {
       "output_type": "stream",
       "stream": "stdout",
       "text": [
        "\n",
        "HTTP Error 404: Not Found, Retrying in 12 seconds..."
       ]
      },
      {
       "output_type": "stream",
       "stream": "stdout",
       "text": [
        "\n",
        "Browsing to http://www.ncbi.nlm.nih.gov/pmc/articles/pmid/21678095..."
       ]
      },
      {
       "output_type": "stream",
       "stream": "stdout",
       "text": [
        "\n",
        "Browsing to http://link.springer.com.proxy.lib.umich.edu/content/pdf/10.1007%2Fs00117-006-1415-2.pdf..."
       ]
      },
      {
       "output_type": "stream",
       "stream": "stdout",
       "text": [
        "\n",
        "Browsing to http://link.springer.com.proxy.lib.umich.edu/article/10.1007/s00117-006-1415-2/fulltext.html..."
       ]
      },
      {
       "output_type": "stream",
       "stream": "stdout",
       "text": [
        "\n",
        "Browsing to http://www.ncbi.nlm.nih.gov/pmc/articles/pmid/17021910..."
       ]
      },
      {
       "output_type": "stream",
       "stream": "stdout",
       "text": [
        "\n",
        "HTTP Error 404: Not Found, Retrying in 3 seconds..."
       ]
      },
      {
       "output_type": "stream",
       "stream": "stdout",
       "text": [
        "\n",
        "Browsing to http://www.ncbi.nlm.nih.gov/pmc/articles/pmid/17021910..."
       ]
      },
      {
       "output_type": "stream",
       "stream": "stdout",
       "text": [
        "\n",
        "HTTP Error 404: Not Found, Retrying in 6 seconds..."
       ]
      },
      {
       "output_type": "stream",
       "stream": "stdout",
       "text": [
        "\n",
        "Browsing to http://www.ncbi.nlm.nih.gov/pmc/articles/pmid/17021910..."
       ]
      },
      {
       "output_type": "stream",
       "stream": "stdout",
       "text": [
        "\n",
        "HTTP Error 404: Not Found, Retrying in 12 seconds..."
       ]
      },
      {
       "output_type": "stream",
       "stream": "stdout",
       "text": [
        "\n",
        "Browsing to http://www.ncbi.nlm.nih.gov/pmc/articles/pmid/17021910..."
       ]
      },
      {
       "output_type": "stream",
       "stream": "stdout",
       "text": [
        "\n",
        "Browsing to http://jnnp.bmj.com.proxy.lib.umich.edu/content/84/11/e2.55.full.pdf..."
       ]
      },
      {
       "output_type": "stream",
       "stream": "stdout",
       "text": [
        "\n",
        "Browsing to http://www.ncbi.nlm.nih.gov/pmc/articles/pmid/24108921..."
       ]
      },
      {
       "output_type": "stream",
       "stream": "stdout",
       "text": [
        "\n",
        "HTTP Error 404: Not Found, Retrying in 3 seconds..."
       ]
      },
      {
       "output_type": "stream",
       "stream": "stdout",
       "text": [
        "\n",
        "Browsing to http://www.ncbi.nlm.nih.gov/pmc/articles/pmid/24108921..."
       ]
      },
      {
       "output_type": "stream",
       "stream": "stdout",
       "text": [
        "\n",
        "HTTP Error 404: Not Found, Retrying in 6 seconds..."
       ]
      },
      {
       "output_type": "stream",
       "stream": "stdout",
       "text": [
        "\n",
        "Browsing to http://www.ncbi.nlm.nih.gov/pmc/articles/pmid/24108921..."
       ]
      },
      {
       "output_type": "stream",
       "stream": "stdout",
       "text": [
        "\n",
        "HTTP Error 404: Not Found, Retrying in 12 seconds..."
       ]
      },
      {
       "output_type": "stream",
       "stream": "stdout",
       "text": [
        "\n",
        "Browsing to http://www.ncbi.nlm.nih.gov/pmc/articles/pmid/24108921..."
       ]
      },
      {
       "output_type": "stream",
       "stream": "stdout",
       "text": [
        "\n",
        "Browsing to http://www.sciencedirect.com.proxy.lib.umich.edu/science/article/pii/S1936878X0800466X/pdfft?md5=4c720cbb50bf5bfcaa47e21ecdcd4e15&pid=1-s2.0-S1936878X0800466X-main.pdf..."
       ]
      },
      {
       "output_type": "stream",
       "stream": "stdout",
       "text": [
        "\n",
        "Browsing to http://www.sciencedirect.com.proxy.lib.umich.edu/science/article/pii/S1936878X0800466X?np=y..."
       ]
      },
      {
       "output_type": "stream",
       "stream": "stdout",
       "text": [
        "\n",
        "Browsing to http://www.ncbi.nlm.nih.gov/pmc/articles/pmid/19356545..."
       ]
      },
      {
       "output_type": "stream",
       "stream": "stdout",
       "text": [
        "\n",
        "HTTP Error 404: Not Found, Retrying in 3 seconds..."
       ]
      },
      {
       "output_type": "stream",
       "stream": "stdout",
       "text": [
        "\n",
        "Browsing to http://www.ncbi.nlm.nih.gov/pmc/articles/pmid/19356545..."
       ]
      },
      {
       "output_type": "stream",
       "stream": "stdout",
       "text": [
        "\n",
        "HTTP Error 404: Not Found, Retrying in 6 seconds..."
       ]
      },
      {
       "output_type": "stream",
       "stream": "stdout",
       "text": [
        "\n",
        "Browsing to http://www.ncbi.nlm.nih.gov/pmc/articles/pmid/19356545..."
       ]
      },
      {
       "output_type": "stream",
       "stream": "stdout",
       "text": [
        "\n",
        "HTTP Error 404: Not Found, Retrying in 12 seconds..."
       ]
      },
      {
       "output_type": "stream",
       "stream": "stdout",
       "text": [
        "\n",
        "Browsing to http://www.ncbi.nlm.nih.gov/pmc/articles/pmid/19356545..."
       ]
      },
      {
       "output_type": "stream",
       "stream": "stdout",
       "text": [
        "\n",
        "Browsing to http://www.sciencedirect.com.proxy.lib.umich.edu/science/article/pii/S1525505011004355/pdfft?md5=d0f1f569ad2ef778071d6785b86148b1&pid=1-s2.0-S1525505011004355-main.pdf..."
       ]
      },
      {
       "output_type": "stream",
       "stream": "stdout",
       "text": [
        "\n",
        "Browsing to http://www.sciencedirect.com.proxy.lib.umich.edu/science/article/pii/S1525505011004355?np=y..."
       ]
      },
      {
       "output_type": "stream",
       "stream": "stdout",
       "text": [
        "\n",
        "Browsing to http://www.ncbi.nlm.nih.gov/pmc/articles/pmid/21880548..."
       ]
      },
      {
       "output_type": "stream",
       "stream": "stdout",
       "text": [
        "\n",
        "HTTP Error 404: Not Found, Retrying in 3 seconds..."
       ]
      },
      {
       "output_type": "stream",
       "stream": "stdout",
       "text": [
        "\n",
        "Browsing to http://www.ncbi.nlm.nih.gov/pmc/articles/pmid/21880548..."
       ]
      },
      {
       "output_type": "stream",
       "stream": "stdout",
       "text": [
        "\n",
        "HTTP Error 404: Not Found, Retrying in 6 seconds..."
       ]
      },
      {
       "output_type": "stream",
       "stream": "stdout",
       "text": [
        "\n",
        "Browsing to http://www.ncbi.nlm.nih.gov/pmc/articles/pmid/21880548..."
       ]
      },
      {
       "output_type": "stream",
       "stream": "stdout",
       "text": [
        "\n",
        "HTTP Error 404: Not Found, Retrying in 12 seconds..."
       ]
      },
      {
       "output_type": "stream",
       "stream": "stdout",
       "text": [
        "\n",
        "Browsing to http://www.ncbi.nlm.nih.gov/pmc/articles/pmid/21880548..."
       ]
      },
      {
       "output_type": "stream",
       "stream": "stdout",
       "text": [
        "\n",
        "Browsing to http://onlinelibrary.wiley.com.proxy.lib.umich.edu/doi/10.1111/j.1395-3907.2004.00214.x/pdf..."
       ]
      },
      {
       "output_type": "stream",
       "stream": "stdout",
       "text": [
        "\n",
        "Browsing to http://onlinelibrary.wiley.com.proxy.lib.umich.edu/doi/10.1111/j.1395-3907.2004.00214.x/full..."
       ]
      },
      {
       "output_type": "stream",
       "stream": "stdout",
       "text": [
        "\n",
        "Browsing to http://www.ncbi.nlm.nih.gov/pmc/articles/pmid/14738491..."
       ]
      },
      {
       "output_type": "stream",
       "stream": "stdout",
       "text": [
        "\n",
        "HTTP Error 404: Not Found, Retrying in 3 seconds..."
       ]
      },
      {
       "output_type": "stream",
       "stream": "stdout",
       "text": [
        "\n",
        "Browsing to http://www.ncbi.nlm.nih.gov/pmc/articles/pmid/14738491..."
       ]
      },
      {
       "output_type": "stream",
       "stream": "stdout",
       "text": [
        "\n",
        "HTTP Error 404: Not Found, Retrying in 6 seconds..."
       ]
      },
      {
       "output_type": "stream",
       "stream": "stdout",
       "text": [
        "\n",
        "Browsing to http://www.ncbi.nlm.nih.gov/pmc/articles/pmid/14738491..."
       ]
      },
      {
       "output_type": "stream",
       "stream": "stdout",
       "text": [
        "\n",
        "HTTP Error 404: Not Found, Retrying in 12 seconds..."
       ]
      },
      {
       "output_type": "stream",
       "stream": "stdout",
       "text": [
        "\n",
        "Browsing to http://www.ncbi.nlm.nih.gov/pmc/articles/pmid/14738491..."
       ]
      },
      {
       "output_type": "stream",
       "stream": "stdout",
       "text": [
        "\n",
        "Bad document, Retrying in 3 seconds..."
       ]
      },
      {
       "output_type": "stream",
       "stream": "stdout",
       "text": [
        "\n",
        "Bad document, Retrying in 6 seconds..."
       ]
      },
      {
       "output_type": "stream",
       "stream": "stdout",
       "text": [
        "\n",
        "Bad document, Retrying in 12 seconds..."
       ]
      },
      {
       "output_type": "stream",
       "stream": "stdout",
       "text": [
        "\n",
        "Browsing to http://www.ncbi.nlm.nih.gov/pmc/articles/pmid/8622143..."
       ]
      },
      {
       "output_type": "stream",
       "stream": "stdout",
       "text": [
        "\n",
        "HTTP Error 404: Not Found, Retrying in 3 seconds..."
       ]
      },
      {
       "output_type": "stream",
       "stream": "stdout",
       "text": [
        "\n",
        "Browsing to http://www.ncbi.nlm.nih.gov/pmc/articles/pmid/8622143..."
       ]
      },
      {
       "output_type": "stream",
       "stream": "stdout",
       "text": [
        "\n",
        "HTTP Error 404: Not Found, Retrying in 6 seconds..."
       ]
      },
      {
       "output_type": "stream",
       "stream": "stdout",
       "text": [
        "\n",
        "Browsing to http://www.ncbi.nlm.nih.gov/pmc/articles/pmid/8622143..."
       ]
      },
      {
       "output_type": "stream",
       "stream": "stdout",
       "text": [
        "\n",
        "HTTP Error 404: Not Found, Retrying in 12 seconds..."
       ]
      },
      {
       "output_type": "stream",
       "stream": "stdout",
       "text": [
        "\n",
        "Browsing to http://www.ncbi.nlm.nih.gov/pmc/articles/pmid/8622143..."
       ]
      },
      {
       "output_type": "stream",
       "stream": "stdout",
       "text": [
        "\n",
        "Bad document, Retrying in 3 seconds..."
       ]
      },
      {
       "output_type": "stream",
       "stream": "stdout",
       "text": [
        "\n",
        "Bad document, Retrying in 6 seconds..."
       ]
      },
      {
       "output_type": "stream",
       "stream": "stdout",
       "text": [
        "\n",
        "Bad document, Retrying in 12 seconds..."
       ]
      },
      {
       "output_type": "stream",
       "stream": "stdout",
       "text": [
        "\n",
        "Browsing to http://www.ncbi.nlm.nih.gov/pmc/articles/pmid/18673112..."
       ]
      },
      {
       "output_type": "stream",
       "stream": "stdout",
       "text": [
        "\n",
        "HTTP Error 404: Not Found, Retrying in 3 seconds..."
       ]
      },
      {
       "output_type": "stream",
       "stream": "stdout",
       "text": [
        "\n",
        "Browsing to http://www.ncbi.nlm.nih.gov/pmc/articles/pmid/18673112..."
       ]
      },
      {
       "output_type": "stream",
       "stream": "stdout",
       "text": [
        "\n",
        "HTTP Error 404: Not Found, Retrying in 6 seconds..."
       ]
      },
      {
       "output_type": "stream",
       "stream": "stdout",
       "text": [
        "\n",
        "Browsing to http://www.ncbi.nlm.nih.gov/pmc/articles/pmid/18673112..."
       ]
      },
      {
       "output_type": "stream",
       "stream": "stdout",
       "text": [
        "\n",
        "HTTP Error 404: Not Found, Retrying in 12 seconds..."
       ]
      },
      {
       "output_type": "stream",
       "stream": "stdout",
       "text": [
        "\n",
        "Browsing to http://www.ncbi.nlm.nih.gov/pmc/articles/pmid/18673112..."
       ]
      },
      {
       "output_type": "stream",
       "stream": "stdout",
       "text": [
        "\n",
        "Browsing to http://link.springer.com.proxy.lib.umich.edu/content/pdf/10.1007%2Fs00330-005-2672-6.pdf..."
       ]
      },
      {
       "output_type": "stream",
       "stream": "stdout",
       "text": [
        "\n",
        "Browsing to http://link.springer.com.proxy.lib.umich.edu/article/10.1007/s00330-005-2672-6/fulltext.html..."
       ]
      },
      {
       "output_type": "stream",
       "stream": "stdout",
       "text": [
        "\n",
        "Browsing to http://www.ncbi.nlm.nih.gov/pmc/articles/pmid/15776243..."
       ]
      },
      {
       "output_type": "stream",
       "stream": "stdout",
       "text": [
        "\n",
        "HTTP Error 404: Not Found, Retrying in 3 seconds..."
       ]
      },
      {
       "output_type": "stream",
       "stream": "stdout",
       "text": [
        "\n",
        "Browsing to http://www.ncbi.nlm.nih.gov/pmc/articles/pmid/15776243..."
       ]
      },
      {
       "output_type": "stream",
       "stream": "stdout",
       "text": [
        "\n",
        "HTTP Error 404: Not Found, Retrying in 6 seconds..."
       ]
      },
      {
       "output_type": "stream",
       "stream": "stdout",
       "text": [
        "\n",
        "Browsing to http://www.ncbi.nlm.nih.gov/pmc/articles/pmid/15776243..."
       ]
      },
      {
       "output_type": "stream",
       "stream": "stdout",
       "text": [
        "\n",
        "HTTP Error 404: Not Found, Retrying in 12 seconds..."
       ]
      },
      {
       "output_type": "stream",
       "stream": "stdout",
       "text": [
        "\n",
        "Browsing to http://www.ncbi.nlm.nih.gov/pmc/articles/pmid/15776243..."
       ]
      },
      {
       "output_type": "stream",
       "stream": "stdout",
       "text": [
        "\n",
        "Browsing to http://onlinelibrary.wiley.com.proxy.lib.umich.edu/doi/10.1002/hbm.22249/pdf..."
       ]
      },
      {
       "output_type": "stream",
       "stream": "stdout",
       "text": [
        "\n",
        "Browsing to http://onlinelibrary.wiley.com.proxy.lib.umich.edu/doi/10.1002/hbm.22249/full..."
       ]
      },
      {
       "output_type": "stream",
       "stream": "stdout",
       "text": [
        "\n",
        "Browsing to http://www.ncbi.nlm.nih.gov/pmc/articles/pmid/23418140..."
       ]
      },
      {
       "output_type": "stream",
       "stream": "stdout",
       "text": [
        "\n",
        "HTTP Error 404: Not Found, Retrying in 3 seconds..."
       ]
      },
      {
       "output_type": "stream",
       "stream": "stdout",
       "text": [
        "\n",
        "Browsing to http://www.ncbi.nlm.nih.gov/pmc/articles/pmid/23418140..."
       ]
      },
      {
       "output_type": "stream",
       "stream": "stdout",
       "text": [
        "\n",
        "HTTP Error 404: Not Found, Retrying in 6 seconds..."
       ]
      },
      {
       "output_type": "stream",
       "stream": "stdout",
       "text": [
        "\n",
        "Browsing to http://www.ncbi.nlm.nih.gov/pmc/articles/pmid/23418140..."
       ]
      },
      {
       "output_type": "stream",
       "stream": "stdout",
       "text": [
        "\n",
        "HTTP Error 404: Not Found, Retrying in 12 seconds..."
       ]
      },
      {
       "output_type": "stream",
       "stream": "stdout",
       "text": [
        "\n",
        "Browsing to http://www.ncbi.nlm.nih.gov/pmc/articles/pmid/23418140..."
       ]
      },
      {
       "output_type": "stream",
       "stream": "stdout",
       "text": [
        "\n",
        "Browsing to http://onlinelibrary.wiley.com.proxy.lib.umich.edu/doi/10.1111/j.1460-9568.2006.05281.x/pdf..."
       ]
      },
      {
       "output_type": "stream",
       "stream": "stdout",
       "text": [
        "\n",
        "Browsing to http://onlinelibrary.wiley.com.proxy.lib.umich.edu/doi/10.1111/j.1460-9568.2006.05281.x/full..."
       ]
      },
      {
       "output_type": "stream",
       "stream": "stdout",
       "text": [
        "\n",
        "Browsing to http://www.ncbi.nlm.nih.gov/pmc/articles/pmid/17241292..."
       ]
      },
      {
       "output_type": "stream",
       "stream": "stdout",
       "text": [
        "\n",
        "HTTP Error 404: Not Found, Retrying in 3 seconds..."
       ]
      },
      {
       "output_type": "stream",
       "stream": "stdout",
       "text": [
        "\n",
        "Browsing to http://www.ncbi.nlm.nih.gov/pmc/articles/pmid/17241292..."
       ]
      },
      {
       "output_type": "stream",
       "stream": "stdout",
       "text": [
        "\n",
        "HTTP Error 404: Not Found, Retrying in 6 seconds..."
       ]
      },
      {
       "output_type": "stream",
       "stream": "stdout",
       "text": [
        "\n",
        "Browsing to http://www.ncbi.nlm.nih.gov/pmc/articles/pmid/17241292..."
       ]
      },
      {
       "output_type": "stream",
       "stream": "stdout",
       "text": [
        "\n",
        "HTTP Error 404: Not Found, Retrying in 12 seconds..."
       ]
      },
      {
       "output_type": "stream",
       "stream": "stdout",
       "text": [
        "\n",
        "Browsing to http://www.ncbi.nlm.nih.gov/pmc/articles/pmid/17241292..."
       ]
      },
      {
       "output_type": "stream",
       "stream": "stdout",
       "text": [
        "\n",
        "Browsing to http://jnnp.bmj.com.proxy.lib.umich.edu/content/74/suppl_1/i3.full.pdf..."
       ]
      },
      {
       "output_type": "stream",
       "stream": "stdout",
       "text": [
        "\n",
        "Browsing to http://jnnp.bmj.com.proxy.lib.umich.edu/content/74/suppl_1/i3.full..."
       ]
      },
      {
       "output_type": "stream",
       "stream": "stdout",
       "text": [
        "\n",
        "Browsing to http://www.ncbi.nlm.nih.gov/pmc/articles/pmid/12611928..."
       ]
      },
      {
       "output_type": "stream",
       "stream": "stdout",
       "text": [
        "\n",
        "Browsing to http://archpsyc.jamanetwork.com.proxy.lib.umich.edu/data/Journals/PSYCH/927079/yoa120086_608_618.pdf..."
       ]
      },
      {
       "output_type": "stream",
       "stream": "stdout",
       "text": [
        "\n",
        "Browsing to http://www.ncbi.nlm.nih.gov/pmc/articles/pmid/23740049..."
       ]
      },
      {
       "output_type": "stream",
       "stream": "stdout",
       "text": [
        "\n",
        "HTTP Error 404: Not Found, Retrying in 3 seconds..."
       ]
      },
      {
       "output_type": "stream",
       "stream": "stdout",
       "text": [
        "\n",
        "Browsing to http://www.ncbi.nlm.nih.gov/pmc/articles/pmid/23740049..."
       ]
      },
      {
       "output_type": "stream",
       "stream": "stdout",
       "text": [
        "\n",
        "HTTP Error 404: Not Found, Retrying in 6 seconds..."
       ]
      },
      {
       "output_type": "stream",
       "stream": "stdout",
       "text": [
        "\n",
        "Browsing to http://www.ncbi.nlm.nih.gov/pmc/articles/pmid/23740049..."
       ]
      },
      {
       "output_type": "stream",
       "stream": "stdout",
       "text": [
        "\n",
        "HTTP Error 404: Not Found, Retrying in 12 seconds..."
       ]
      },
      {
       "output_type": "stream",
       "stream": "stdout",
       "text": [
        "\n",
        "Browsing to http://www.ncbi.nlm.nih.gov/pmc/articles/pmid/23740049..."
       ]
      },
      {
       "output_type": "stream",
       "stream": "stdout",
       "text": [
        "\n",
        "No access, Retrying in 3 seconds..."
       ]
      },
      {
       "output_type": "stream",
       "stream": "stdout",
       "text": [
        "\n",
        "No access, Retrying in 6 seconds..."
       ]
      },
      {
       "output_type": "stream",
       "stream": "stdout",
       "text": [
        "\n",
        "No access, Retrying in 12 seconds..."
       ]
      },
      {
       "output_type": "stream",
       "stream": "stdout",
       "text": [
        "\n",
        "Browsing to http://journals.lww.com/retinajournal/Fulltext/1999/19050/Findings_Typical_of_Susac_s_Syndrome_in_A_Patient.29.aspx..."
       ]
      },
      {
       "output_type": "stream",
       "stream": "stdout",
       "text": [
        "\n",
        "No access, Retrying in 3 seconds..."
       ]
      },
      {
       "output_type": "stream",
       "stream": "stdout",
       "text": [
        "\n",
        "No access, Retrying in 6 seconds..."
       ]
      },
      {
       "output_type": "stream",
       "stream": "stdout",
       "text": [
        "\n",
        "No access, Retrying in 12 seconds..."
       ]
      },
      {
       "output_type": "stream",
       "stream": "stdout",
       "text": [
        "\n",
        "Browsing to http://www.ncbi.nlm.nih.gov/pmc/articles/pmid/10546956..."
       ]
      },
      {
       "output_type": "stream",
       "stream": "stdout",
       "text": [
        "\n",
        "HTTP Error 404: Not Found, Retrying in 3 seconds..."
       ]
      },
      {
       "output_type": "stream",
       "stream": "stdout",
       "text": [
        "\n",
        "Browsing to http://www.ncbi.nlm.nih.gov/pmc/articles/pmid/10546956..."
       ]
      },
      {
       "output_type": "stream",
       "stream": "stdout",
       "text": [
        "\n",
        "HTTP Error 404: Not Found, Retrying in 6 seconds..."
       ]
      },
      {
       "output_type": "stream",
       "stream": "stdout",
       "text": [
        "\n",
        "Browsing to http://www.ncbi.nlm.nih.gov/pmc/articles/pmid/10546956..."
       ]
      },
      {
       "output_type": "stream",
       "stream": "stdout",
       "text": [
        "\n",
        "HTTP Error 404: Not Found, Retrying in 12 seconds..."
       ]
      },
      {
       "output_type": "stream",
       "stream": "stdout",
       "text": [
        "\n",
        "Browsing to http://www.ncbi.nlm.nih.gov/pmc/articles/pmid/10546956..."
       ]
      },
      {
       "output_type": "stream",
       "stream": "stdout",
       "text": [
        "\n",
        "Browsing to http://www.sciencedirect.com.proxy.lib.umich.edu/science/article/pii/S0300297798001016/pdfft?md5=e477520c90c0a7005660a8c88fbbe0ff&pid=1-s2.0-S0300297798001016-main.pdf..."
       ]
      },
      {
       "output_type": "stream",
       "stream": "stdout",
       "text": [
        "\n",
        "Browsing to http://www.sciencedirect.com.proxy.lib.umich.edu/science/article/pii/S0300297798001016?np=y..."
       ]
      },
      {
       "output_type": "stream",
       "stream": "stdout",
       "text": [
        "\n",
        "Browsing to http://www.ncbi.nlm.nih.gov/pmc/articles/pmid/9852709..."
       ]
      },
      {
       "output_type": "stream",
       "stream": "stdout",
       "text": [
        "\n",
        "HTTP Error 404: Not Found, Retrying in 3 seconds..."
       ]
      },
      {
       "output_type": "stream",
       "stream": "stdout",
       "text": [
        "\n",
        "Browsing to http://www.ncbi.nlm.nih.gov/pmc/articles/pmid/9852709..."
       ]
      },
      {
       "output_type": "stream",
       "stream": "stdout",
       "text": [
        "\n",
        "HTTP Error 404: Not Found, Retrying in 6 seconds..."
       ]
      },
      {
       "output_type": "stream",
       "stream": "stdout",
       "text": [
        "\n",
        "Browsing to http://www.ncbi.nlm.nih.gov/pmc/articles/pmid/9852709..."
       ]
      },
      {
       "output_type": "stream",
       "stream": "stdout",
       "text": [
        "\n",
        "HTTP Error 404: Not Found, Retrying in 12 seconds..."
       ]
      },
      {
       "output_type": "stream",
       "stream": "stdout",
       "text": [
        "\n",
        "Browsing to http://www.ncbi.nlm.nih.gov/pmc/articles/pmid/9852709..."
       ]
      },
      {
       "output_type": "stream",
       "stream": "stdout",
       "text": [
        "\n",
        "Browsing to http://www.jneurosci.org.proxy.lib.umich.edu/content/29/9/2684.full.pdf..."
       ]
      },
      {
       "output_type": "stream",
       "stream": "stdout",
       "text": [
        "\n",
        "Browsing to http://www.jneurosci.org.proxy.lib.umich.edu/content/29/9/2684.full..."
       ]
      },
      {
       "output_type": "stream",
       "stream": "stdout",
       "text": [
        "\n",
        "Browsing to http://www.ncbi.nlm.nih.gov/pmc/articles/pmid/19261863..."
       ]
      },
      {
       "output_type": "stream",
       "stream": "stdout",
       "text": [
        "\n",
        "Bad document, Retrying in 3 seconds..."
       ]
      },
      {
       "output_type": "stream",
       "stream": "stdout",
       "text": [
        "\n",
        "Bad document, Retrying in 6 seconds..."
       ]
      },
      {
       "output_type": "stream",
       "stream": "stdout",
       "text": [
        "\n",
        "Bad document, Retrying in 12 seconds..."
       ]
      },
      {
       "output_type": "stream",
       "stream": "stdout",
       "text": [
        "\n",
        "Browsing to http://www.ncbi.nlm.nih.gov/pmc/articles/pmid/14728244..."
       ]
      },
      {
       "output_type": "stream",
       "stream": "stdout",
       "text": [
        "\n",
        "Browsing to http://www.sciencedirect.com.proxy.lib.umich.edu/science/article/pii/S0006899313011773/pdfft?md5=10d7894052f5d2a6ad64da382964e945&pid=1-s2.0-S0006899313011773-main.pdf..."
       ]
      },
      {
       "output_type": "stream",
       "stream": "stdout",
       "text": [
        "\n",
        "Browsing to http://www.sciencedirect.com.proxy.lib.umich.edu/science/article/pii/S0006899313011773?np=y..."
       ]
      },
      {
       "output_type": "stream",
       "stream": "stdout",
       "text": [
        "\n",
        "Browsing to http://www.ncbi.nlm.nih.gov/pmc/articles/pmid/23994213..."
       ]
      },
      {
       "output_type": "stream",
       "stream": "stdout",
       "text": [
        "\n",
        "HTTP Error 404: Not Found, Retrying in 3 seconds..."
       ]
      },
      {
       "output_type": "stream",
       "stream": "stdout",
       "text": [
        "\n",
        "Browsing to http://www.ncbi.nlm.nih.gov/pmc/articles/pmid/23994213..."
       ]
      },
      {
       "output_type": "stream",
       "stream": "stdout",
       "text": [
        "\n",
        "HTTP Error 404: Not Found, Retrying in 6 seconds..."
       ]
      },
      {
       "output_type": "stream",
       "stream": "stdout",
       "text": [
        "\n",
        "Browsing to http://www.ncbi.nlm.nih.gov/pmc/articles/pmid/23994213..."
       ]
      },
      {
       "output_type": "stream",
       "stream": "stdout",
       "text": [
        "\n",
        "HTTP Error 404: Not Found, Retrying in 12 seconds..."
       ]
      },
      {
       "output_type": "stream",
       "stream": "stdout",
       "text": [
        "\n",
        "Browsing to http://www.ncbi.nlm.nih.gov/pmc/articles/pmid/23994213..."
       ]
      },
      {
       "output_type": "stream",
       "stream": "stdout",
       "text": [
        "\n",
        "Browsing to http://onlinelibrary.wiley.com.proxy.lib.umich.edu/doi/10.1002/jmri.21797/pdf..."
       ]
      },
      {
       "output_type": "stream",
       "stream": "stdout",
       "text": [
        "\n",
        "Browsing to http://onlinelibrary.wiley.com.proxy.lib.umich.edu/doi/10.1002/jmri.21797/full..."
       ]
      },
      {
       "output_type": "stream",
       "stream": "stdout",
       "text": [
        "\n",
        "Browsing to http://www.ncbi.nlm.nih.gov/pmc/articles/pmid/19472393..."
       ]
      },
      {
       "output_type": "stream",
       "stream": "stdout",
       "text": [
        "\n",
        "HTTP Error 404: Not Found, Retrying in 3 seconds..."
       ]
      },
      {
       "output_type": "stream",
       "stream": "stdout",
       "text": [
        "\n",
        "Browsing to http://www.ncbi.nlm.nih.gov/pmc/articles/pmid/19472393..."
       ]
      },
      {
       "output_type": "stream",
       "stream": "stdout",
       "text": [
        "\n",
        "HTTP Error 404: Not Found, Retrying in 6 seconds..."
       ]
      },
      {
       "output_type": "stream",
       "stream": "stdout",
       "text": [
        "\n",
        "Browsing to http://www.ncbi.nlm.nih.gov/pmc/articles/pmid/19472393..."
       ]
      },
      {
       "output_type": "stream",
       "stream": "stdout",
       "text": [
        "\n",
        "HTTP Error 404: Not Found, Retrying in 12 seconds..."
       ]
      },
      {
       "output_type": "stream",
       "stream": "stdout",
       "text": [
        "\n",
        "Browsing to http://www.ncbi.nlm.nih.gov/pmc/articles/pmid/19472393..."
       ]
      },
      {
       "output_type": "stream",
       "stream": "stdout",
       "text": [
        "\n",
        "Browsing to http://onlinelibrary.wiley.com.proxy.lib.umich.edu/doi/10.1002/jmri.21755/pdf..."
       ]
      },
      {
       "output_type": "stream",
       "stream": "stdout",
       "text": [
        "\n",
        "Browsing to http://onlinelibrary.wiley.com.proxy.lib.umich.edu/doi/10.1002/jmri.21755/full..."
       ]
      },
      {
       "output_type": "stream",
       "stream": "stdout",
       "text": [
        "\n",
        "Browsing to http://www.ncbi.nlm.nih.gov/pmc/articles/pmid/19472392..."
       ]
      },
      {
       "output_type": "stream",
       "stream": "stdout",
       "text": [
        "\n",
        "HTTP Error 404: Not Found, Retrying in 3 seconds..."
       ]
      },
      {
       "output_type": "stream",
       "stream": "stdout",
       "text": [
        "\n",
        "Browsing to http://www.ncbi.nlm.nih.gov/pmc/articles/pmid/19472392..."
       ]
      },
      {
       "output_type": "stream",
       "stream": "stdout",
       "text": [
        "\n",
        "HTTP Error 404: Not Found, Retrying in 6 seconds..."
       ]
      },
      {
       "output_type": "stream",
       "stream": "stdout",
       "text": [
        "\n",
        "Browsing to http://www.ncbi.nlm.nih.gov/pmc/articles/pmid/19472392..."
       ]
      },
      {
       "output_type": "stream",
       "stream": "stdout",
       "text": [
        "\n",
        "HTTP Error 404: Not Found, Retrying in 12 seconds..."
       ]
      },
      {
       "output_type": "stream",
       "stream": "stdout",
       "text": [
        "\n",
        "Browsing to http://www.ncbi.nlm.nih.gov/pmc/articles/pmid/19472392..."
       ]
      },
      {
       "output_type": "stream",
       "stream": "stdout",
       "text": [
        "\n",
        "Browsing to http://www.molecularpain.com/content/pdf/1744-8069-6-81.pdf..."
       ]
      },
      {
       "output_type": "stream",
       "stream": "stdout",
       "text": [
        "\n",
        "Browsing to http://www.molecularpain.com/content/6/1/81..."
       ]
      },
      {
       "output_type": "stream",
       "stream": "stdout",
       "text": [
        "\n",
        "Browsing to http://www.ncbi.nlm.nih.gov/pmc/articles/pmid/21083897..."
       ]
      },
      {
       "output_type": "stream",
       "stream": "stdout",
       "text": [
        "\n",
        "Browsing to http://onlinelibrary.wiley.com.proxy.lib.umich.edu/doi/10.1002/jmri.21751/pdf..."
       ]
      },
      {
       "output_type": "stream",
       "stream": "stdout",
       "text": [
        "\n",
        "Browsing to http://onlinelibrary.wiley.com.proxy.lib.umich.edu/doi/10.1002/jmri.21751/full..."
       ]
      },
      {
       "output_type": "stream",
       "stream": "stdout",
       "text": [
        "\n",
        "Browsing to http://www.ncbi.nlm.nih.gov/pmc/articles/pmid/19472390..."
       ]
      },
      {
       "output_type": "stream",
       "stream": "stdout",
       "text": [
        "\n",
        "Browsing to http://www.sciencedirect.com.proxy.lib.umich.edu/science/article/pii/S1063458413008388/pdfft?md5=fbfad0e81ff909d2b089c286965b6d36&pid=1-s2.0-S1063458413008388-main.pdf..."
       ]
      },
      {
       "output_type": "stream",
       "stream": "stdout",
       "text": [
        "\n",
        "Browsing to http://www.sciencedirect.com.proxy.lib.umich.edu/science/article/pii/S1063458413008388?np=y..."
       ]
      },
      {
       "output_type": "stream",
       "stream": "stdout",
       "text": [
        "\n",
        "Browsing to http://www.ncbi.nlm.nih.gov/pmc/articles/pmid/23791872..."
       ]
      },
      {
       "output_type": "stream",
       "stream": "stdout",
       "text": [
        "\n",
        "HTTP Error 404: Not Found, Retrying in 3 seconds..."
       ]
      },
      {
       "output_type": "stream",
       "stream": "stdout",
       "text": [
        "\n",
        "Browsing to http://www.ncbi.nlm.nih.gov/pmc/articles/pmid/23791872..."
       ]
      },
      {
       "output_type": "stream",
       "stream": "stdout",
       "text": [
        "\n",
        "HTTP Error 404: Not Found, Retrying in 6 seconds..."
       ]
      },
      {
       "output_type": "stream",
       "stream": "stdout",
       "text": [
        "\n",
        "Browsing to http://www.ncbi.nlm.nih.gov/pmc/articles/pmid/23791872..."
       ]
      },
      {
       "output_type": "stream",
       "stream": "stdout",
       "text": [
        "\n",
        "HTTP Error 404: Not Found, Retrying in 12 seconds..."
       ]
      },
      {
       "output_type": "stream",
       "stream": "stdout",
       "text": [
        "\n",
        "Browsing to http://www.ncbi.nlm.nih.gov/pmc/articles/pmid/23791872..."
       ]
      },
      {
       "output_type": "stream",
       "stream": "stdout",
       "text": [
        "\n",
        "Browsing to http://link.springer.com.proxy.lib.umich.edu/content/pdf/10.2165%2F00007256-199417060-00006.pdf..."
       ]
      },
      {
       "output_type": "stream",
       "stream": "stdout",
       "text": [
        "\n",
        "No access, Retrying in 3 seconds..."
       ]
      },
      {
       "output_type": "stream",
       "stream": "stdout",
       "text": [
        "\n",
        "Browsing to http://link.springer.com.proxy.lib.umich.edu/content/pdf/10.2165%2F00007256-199417060-00006.pdf..."
       ]
      },
      {
       "output_type": "stream",
       "stream": "stdout",
       "text": [
        "\n",
        "No access, Retrying in 6 seconds..."
       ]
      },
      {
       "output_type": "stream",
       "stream": "stdout",
       "text": [
        "\n",
        "Browsing to http://link.springer.com.proxy.lib.umich.edu/content/pdf/10.2165%2F00007256-199417060-00006.pdf..."
       ]
      },
      {
       "output_type": "stream",
       "stream": "stdout",
       "text": [
        "\n",
        "No access, Retrying in 12 seconds..."
       ]
      },
      {
       "output_type": "stream",
       "stream": "stdout",
       "text": [
        "\n",
        "Browsing to http://link.springer.com.proxy.lib.umich.edu/content/pdf/10.2165%2F00007256-199417060-00006.pdf..."
       ]
      },
      {
       "output_type": "stream",
       "stream": "stdout",
       "text": [
        "\n",
        "No access, Retrying in 3 seconds..."
       ]
      },
      {
       "output_type": "stream",
       "stream": "stdout",
       "text": [
        "\n",
        "No access, Retrying in 6 seconds..."
       ]
      },
      {
       "output_type": "stream",
       "stream": "stdout",
       "text": [
        "\n",
        "No access, Retrying in 12 seconds..."
       ]
      },
      {
       "output_type": "stream",
       "stream": "stdout",
       "text": [
        "\n",
        "Browsing to http://www.ncbi.nlm.nih.gov/pmc/articles/pmid/8091049..."
       ]
      },
      {
       "output_type": "stream",
       "stream": "stdout",
       "text": [
        "\n",
        "HTTP Error 404: Not Found, Retrying in 3 seconds..."
       ]
      },
      {
       "output_type": "stream",
       "stream": "stdout",
       "text": [
        "\n",
        "Browsing to http://www.ncbi.nlm.nih.gov/pmc/articles/pmid/8091049..."
       ]
      },
      {
       "output_type": "stream",
       "stream": "stdout",
       "text": [
        "\n",
        "HTTP Error 404: Not Found, Retrying in 6 seconds..."
       ]
      },
      {
       "output_type": "stream",
       "stream": "stdout",
       "text": [
        "\n",
        "Browsing to http://www.ncbi.nlm.nih.gov/pmc/articles/pmid/8091049..."
       ]
      },
      {
       "output_type": "stream",
       "stream": "stdout",
       "text": [
        "\n",
        "HTTP Error 404: Not Found, Retrying in 12 seconds..."
       ]
      },
      {
       "output_type": "stream",
       "stream": "stdout",
       "text": [
        "\n",
        "Browsing to http://www.ncbi.nlm.nih.gov/pmc/articles/pmid/8091049..."
       ]
      },
      {
       "output_type": "stream",
       "stream": "stdout",
       "text": [
        "\n",
        "Browsing to https://www-thieme-connect-com.proxy.lib.umich.edu/ejournals/pdf/10.1055/s-0031-1279739.pdf..."
       ]
      },
      {
       "output_type": "stream",
       "stream": "stdout",
       "text": [
        "\n",
        "Browsing to https://www-thieme-connect-com.proxy.lib.umich.edu/ejournals/html/10.1055/s-0031-1279739..."
       ]
      },
      {
       "output_type": "stream",
       "stream": "stdout",
       "text": [
        "\n",
        "Browsing to http://www.ncbi.nlm.nih.gov/pmc/articles/pmid/21710405..."
       ]
      },
      {
       "output_type": "stream",
       "stream": "stdout",
       "text": [
        "\n",
        "HTTP Error 404: Not Found, Retrying in 3 seconds..."
       ]
      },
      {
       "output_type": "stream",
       "stream": "stdout",
       "text": [
        "\n",
        "Browsing to http://www.ncbi.nlm.nih.gov/pmc/articles/pmid/21710405..."
       ]
      },
      {
       "output_type": "stream",
       "stream": "stdout",
       "text": [
        "\n",
        "HTTP Error 404: Not Found, Retrying in 6 seconds..."
       ]
      },
      {
       "output_type": "stream",
       "stream": "stdout",
       "text": [
        "\n",
        "Browsing to http://www.ncbi.nlm.nih.gov/pmc/articles/pmid/21710405..."
       ]
      },
      {
       "output_type": "stream",
       "stream": "stdout",
       "text": [
        "\n",
        "HTTP Error 404: Not Found, Retrying in 12 seconds..."
       ]
      },
      {
       "output_type": "stream",
       "stream": "stdout",
       "text": [
        "\n",
        "Browsing to http://www.ncbi.nlm.nih.gov/pmc/articles/pmid/21710405..."
       ]
      },
      {
       "output_type": "stream",
       "stream": "stdout",
       "text": [
        "\n",
        "Browsing to http://link.springer.com.proxy.lib.umich.edu/content/pdf/10.1007%2F978-3-7091-9115-6_123.pdf..."
       ]
      },
      {
       "output_type": "stream",
       "stream": "stdout",
       "text": [
        "\n",
        "No access, Retrying in 3 seconds..."
       ]
      },
      {
       "output_type": "stream",
       "stream": "stdout",
       "text": [
        "\n",
        "Browsing to http://link.springer.com.proxy.lib.umich.edu/content/pdf/10.1007%2F978-3-7091-9115-6_123.pdf..."
       ]
      },
      {
       "output_type": "stream",
       "stream": "stdout",
       "text": [
        "\n",
        "No access, Retrying in 6 seconds..."
       ]
      },
      {
       "output_type": "stream",
       "stream": "stdout",
       "text": [
        "\n",
        "Browsing to http://link.springer.com.proxy.lib.umich.edu/content/pdf/10.1007%2F978-3-7091-9115-6_123.pdf..."
       ]
      },
      {
       "output_type": "stream",
       "stream": "stdout",
       "text": [
        "\n",
        "No access, Retrying in 12 seconds..."
       ]
      },
      {
       "output_type": "stream",
       "stream": "stdout",
       "text": [
        "\n",
        "Browsing to http://link.springer.com.proxy.lib.umich.edu/content/pdf/10.1007%2F978-3-7091-9115-6_123.pdf..."
       ]
      },
      {
       "output_type": "stream",
       "stream": "stdout",
       "text": [
        "\n",
        "No access, Retrying in 3 seconds..."
       ]
      },
      {
       "output_type": "stream",
       "stream": "stdout",
       "text": [
        "\n",
        "No access, Retrying in 6 seconds..."
       ]
      },
      {
       "output_type": "stream",
       "stream": "stdout",
       "text": [
        "\n",
        "No access, Retrying in 12 seconds..."
       ]
      },
      {
       "output_type": "stream",
       "stream": "stdout",
       "text": [
        "\n",
        "Browsing to http://www.ncbi.nlm.nih.gov/pmc/articles/pmid/2000587..."
       ]
      },
      {
       "output_type": "stream",
       "stream": "stdout",
       "text": [
        "\n",
        "HTTP Error 404: Not Found, Retrying in 3 seconds..."
       ]
      },
      {
       "output_type": "stream",
       "stream": "stdout",
       "text": [
        "\n",
        "Browsing to http://www.ncbi.nlm.nih.gov/pmc/articles/pmid/2000587..."
       ]
      },
      {
       "output_type": "stream",
       "stream": "stdout",
       "text": [
        "\n",
        "HTTP Error 404: Not Found, Retrying in 6 seconds..."
       ]
      },
      {
       "output_type": "stream",
       "stream": "stdout",
       "text": [
        "\n",
        "Browsing to http://www.ncbi.nlm.nih.gov/pmc/articles/pmid/2000587..."
       ]
      },
      {
       "output_type": "stream",
       "stream": "stdout",
       "text": [
        "\n",
        "HTTP Error 404: Not Found, Retrying in 12 seconds..."
       ]
      },
      {
       "output_type": "stream",
       "stream": "stdout",
       "text": [
        "\n",
        "Browsing to http://www.ncbi.nlm.nih.gov/pmc/articles/pmid/2000587..."
       ]
      },
      {
       "output_type": "stream",
       "stream": "stdout",
       "text": [
        "\n",
        "Bad document, Retrying in 3 seconds..."
       ]
      },
      {
       "output_type": "stream",
       "stream": "stdout",
       "text": [
        "\n",
        "Bad document, Retrying in 6 seconds..."
       ]
      },
      {
       "output_type": "stream",
       "stream": "stdout",
       "text": [
        "\n",
        "Bad document, Retrying in 12 seconds..."
       ]
      },
      {
       "output_type": "stream",
       "stream": "stdout",
       "text": [
        "\n",
        "Browsing to http://www.ncbi.nlm.nih.gov/pmc/articles/pmid/8701792..."
       ]
      },
      {
       "output_type": "stream",
       "stream": "stdout",
       "text": [
        "\n",
        "HTTP Error 404: Not Found, Retrying in 3 seconds..."
       ]
      },
      {
       "output_type": "stream",
       "stream": "stdout",
       "text": [
        "\n",
        "Browsing to http://www.ncbi.nlm.nih.gov/pmc/articles/pmid/8701792..."
       ]
      },
      {
       "output_type": "stream",
       "stream": "stdout",
       "text": [
        "\n",
        "HTTP Error 404: Not Found, Retrying in 6 seconds..."
       ]
      },
      {
       "output_type": "stream",
       "stream": "stdout",
       "text": [
        "\n",
        "Browsing to http://www.ncbi.nlm.nih.gov/pmc/articles/pmid/8701792..."
       ]
      },
      {
       "output_type": "stream",
       "stream": "stdout",
       "text": [
        "\n",
        "HTTP Error 404: Not Found, Retrying in 12 seconds..."
       ]
      },
      {
       "output_type": "stream",
       "stream": "stdout",
       "text": [
        "\n",
        "Browsing to http://www.ncbi.nlm.nih.gov/pmc/articles/pmid/8701792..."
       ]
      },
      {
       "output_type": "stream",
       "stream": "stdout",
       "text": [
        "\n",
        "Bad document, Retrying in 3 seconds..."
       ]
      },
      {
       "output_type": "stream",
       "stream": "stdout",
       "text": [
        "\n",
        "Bad document, Retrying in 6 seconds..."
       ]
      },
      {
       "output_type": "stream",
       "stream": "stdout",
       "text": [
        "\n",
        "Bad document, Retrying in 12 seconds..."
       ]
      },
      {
       "output_type": "stream",
       "stream": "stdout",
       "text": [
        "\n",
        "Browsing to http://www.ncbi.nlm.nih.gov/pmc/articles/pmid/15675594..."
       ]
      },
      {
       "output_type": "stream",
       "stream": "stdout",
       "text": [
        "\n",
        "HTTP Error 404: Not Found, Retrying in 3 seconds..."
       ]
      },
      {
       "output_type": "stream",
       "stream": "stdout",
       "text": [
        "\n",
        "Browsing to http://www.ncbi.nlm.nih.gov/pmc/articles/pmid/15675594..."
       ]
      },
      {
       "output_type": "stream",
       "stream": "stdout",
       "text": [
        "\n",
        "HTTP Error 404: Not Found, Retrying in 6 seconds..."
       ]
      },
      {
       "output_type": "stream",
       "stream": "stdout",
       "text": [
        "\n",
        "Browsing to http://www.ncbi.nlm.nih.gov/pmc/articles/pmid/15675594..."
       ]
      },
      {
       "output_type": "stream",
       "stream": "stdout",
       "text": [
        "\n",
        "HTTP Error 404: Not Found, Retrying in 12 seconds..."
       ]
      },
      {
       "output_type": "stream",
       "stream": "stdout",
       "text": [
        "\n",
        "Browsing to http://www.ncbi.nlm.nih.gov/pmc/articles/pmid/15675594..."
       ]
      },
      {
       "output_type": "stream",
       "stream": "stdout",
       "text": [
        "\n",
        "Browsing to http://www.scielo.br.proxy.lib.umich.edu/scielo.php?script=sci_pdf&pid=S1807-59322010001100027&lng=en&nrm=iso&tlng=en..."
       ]
      },
      {
       "output_type": "stream",
       "stream": "stdout",
       "text": [
        "\n",
        "Browsing to http://www.scielo.br.proxy.lib.umich.edu/scielo.php?script=sci_arttext&pid=S1807-59322010001100027&lng=en&nrm=iso&tlng=en..."
       ]
      },
      {
       "output_type": "stream",
       "stream": "stdout",
       "text": [
        "\n",
        "Browsing to http://www.ncbi.nlm.nih.gov/pmc/articles/pmid/21243299..."
       ]
      },
      {
       "output_type": "stream",
       "stream": "stdout",
       "text": [
        "\n",
        "Browsing to http://link.springer.com.proxy.lib.umich.edu/content/pdf/10.1007%2F978-3-7091-6081-7_30.pdf..."
       ]
      },
      {
       "output_type": "stream",
       "stream": "stdout",
       "text": [
        "\n",
        "No access, Retrying in 3 seconds..."
       ]
      },
      {
       "output_type": "stream",
       "stream": "stdout",
       "text": [
        "\n",
        "Browsing to http://link.springer.com.proxy.lib.umich.edu/content/pdf/10.1007%2F978-3-7091-6081-7_30.pdf..."
       ]
      },
      {
       "output_type": "stream",
       "stream": "stdout",
       "text": [
        "\n",
        "No access, Retrying in 6 seconds..."
       ]
      },
      {
       "output_type": "stream",
       "stream": "stdout",
       "text": [
        "\n",
        "Browsing to http://link.springer.com.proxy.lib.umich.edu/content/pdf/10.1007%2F978-3-7091-6081-7_30.pdf..."
       ]
      },
      {
       "output_type": "stream",
       "stream": "stdout",
       "text": [
        "\n",
        "No access, Retrying in 12 seconds..."
       ]
      },
      {
       "output_type": "stream",
       "stream": "stdout",
       "text": [
        "\n",
        "Browsing to http://link.springer.com.proxy.lib.umich.edu/content/pdf/10.1007%2F978-3-7091-6081-7_30.pdf..."
       ]
      },
      {
       "output_type": "stream",
       "stream": "stdout",
       "text": [
        "\n",
        "No access, Retrying in 3 seconds..."
       ]
      },
      {
       "output_type": "stream",
       "stream": "stdout",
       "text": [
        "\n",
        "No access, Retrying in 6 seconds..."
       ]
      },
      {
       "output_type": "stream",
       "stream": "stdout",
       "text": [
        "\n",
        "No access, Retrying in 12 seconds..."
       ]
      },
      {
       "output_type": "stream",
       "stream": "stdout",
       "text": [
        "\n",
        "Browsing to http://www.ncbi.nlm.nih.gov/pmc/articles/pmid/14518542..."
       ]
      },
      {
       "output_type": "stream",
       "stream": "stdout",
       "text": [
        "\n",
        "HTTP Error 404: Not Found, Retrying in 3 seconds..."
       ]
      },
      {
       "output_type": "stream",
       "stream": "stdout",
       "text": [
        "\n",
        "Browsing to http://www.ncbi.nlm.nih.gov/pmc/articles/pmid/14518542..."
       ]
      },
      {
       "output_type": "stream",
       "stream": "stdout",
       "text": [
        "\n",
        "HTTP Error 404: Not Found, Retrying in 6 seconds..."
       ]
      },
      {
       "output_type": "stream",
       "stream": "stdout",
       "text": [
        "\n",
        "Browsing to http://www.ncbi.nlm.nih.gov/pmc/articles/pmid/14518542..."
       ]
      },
      {
       "output_type": "stream",
       "stream": "stdout",
       "text": [
        "\n",
        "HTTP Error 404: Not Found, Retrying in 12 seconds..."
       ]
      },
      {
       "output_type": "stream",
       "stream": "stdout",
       "text": [
        "\n",
        "Browsing to http://www.ncbi.nlm.nih.gov/pmc/articles/pmid/14518542..."
       ]
      },
      {
       "output_type": "stream",
       "stream": "stdout",
       "text": [
        "\n",
        "Browsing to http://onlinelibrary.wiley.com.proxy.lib.umich.edu/doi/10.1046/j.1365-2265.2000.01027.x/pdf..."
       ]
      },
      {
       "output_type": "stream",
       "stream": "stdout",
       "text": [
        "\n",
        "Browsing to http://www.ncbi.nlm.nih.gov/pmc/articles/pmid/10848869..."
       ]
      },
      {
       "output_type": "stream",
       "stream": "stdout",
       "text": [
        "\n",
        "HTTP Error 404: Not Found, Retrying in 3 seconds..."
       ]
      },
      {
       "output_type": "stream",
       "stream": "stdout",
       "text": [
        "\n",
        "Browsing to http://www.ncbi.nlm.nih.gov/pmc/articles/pmid/10848869..."
       ]
      },
      {
       "output_type": "stream",
       "stream": "stdout",
       "text": [
        "\n",
        "HTTP Error 404: Not Found, Retrying in 6 seconds..."
       ]
      },
      {
       "output_type": "stream",
       "stream": "stdout",
       "text": [
        "\n",
        "Browsing to http://www.ncbi.nlm.nih.gov/pmc/articles/pmid/10848869..."
       ]
      },
      {
       "output_type": "stream",
       "stream": "stdout",
       "text": [
        "\n",
        "HTTP Error 404: Not Found, Retrying in 12 seconds..."
       ]
      },
      {
       "output_type": "stream",
       "stream": "stdout",
       "text": [
        "\n",
        "Browsing to http://www.ncbi.nlm.nih.gov/pmc/articles/pmid/10848869..."
       ]
      },
      {
       "output_type": "stream",
       "stream": "stdout",
       "text": [
        "\n",
        "Browsing to http://onlinelibrary.wiley.com.proxy.lib.umich.edu/doi/10.1046/j.1464-410x.2000.00973.x/pdf..."
       ]
      },
      {
       "output_type": "stream",
       "stream": "stdout",
       "text": [
        "\n",
        "Browsing to http://onlinelibrary.wiley.com.proxy.lib.umich.edu/doi/10.1046/j.1464-410x.2000.00973.x/full..."
       ]
      },
      {
       "output_type": "stream",
       "stream": "stdout",
       "text": [
        "\n",
        "Browsing to http://www.ncbi.nlm.nih.gov/pmc/articles/pmid/11119086..."
       ]
      },
      {
       "output_type": "stream",
       "stream": "stdout",
       "text": [
        "\n",
        "HTTP Error 404: Not Found, Retrying in 3 seconds..."
       ]
      },
      {
       "output_type": "stream",
       "stream": "stdout",
       "text": [
        "\n",
        "Browsing to http://www.ncbi.nlm.nih.gov/pmc/articles/pmid/11119086..."
       ]
      },
      {
       "output_type": "stream",
       "stream": "stdout",
       "text": [
        "\n",
        "HTTP Error 404: Not Found, Retrying in 6 seconds..."
       ]
      },
      {
       "output_type": "stream",
       "stream": "stdout",
       "text": [
        "\n",
        "Browsing to http://www.ncbi.nlm.nih.gov/pmc/articles/pmid/11119086..."
       ]
      },
      {
       "output_type": "stream",
       "stream": "stdout",
       "text": [
        "\n",
        "HTTP Error 404: Not Found, Retrying in 12 seconds..."
       ]
      },
      {
       "output_type": "stream",
       "stream": "stdout",
       "text": [
        "\n",
        "Browsing to http://www.ncbi.nlm.nih.gov/pmc/articles/pmid/11119086..."
       ]
      },
      {
       "output_type": "stream",
       "stream": "stdout",
       "text": [
        "\n",
        "Browsing to http://www.sciencedirect.com.proxy.lib.umich.edu/science/article/pii/S0387760400001819/pdfft?md5=2eb54cf220c6d6d0e8b80d5f1609c344&pid=1-s2.0-S0387760400001819-main.pdf..."
       ]
      },
      {
       "output_type": "stream",
       "stream": "stdout",
       "text": [
        "\n",
        "Browsing to http://www.sciencedirect.com.proxy.lib.umich.edu/science/article/pii/S0387760400001819?np=y..."
       ]
      },
      {
       "output_type": "stream",
       "stream": "stdout",
       "text": [
        "\n",
        "Browsing to http://www.ncbi.nlm.nih.gov/pmc/articles/pmid/11102733..."
       ]
      },
      {
       "output_type": "stream",
       "stream": "stdout",
       "text": [
        "\n",
        "HTTP Error 404: Not Found, Retrying in 3 seconds..."
       ]
      },
      {
       "output_type": "stream",
       "stream": "stdout",
       "text": [
        "\n",
        "Browsing to http://www.ncbi.nlm.nih.gov/pmc/articles/pmid/11102733..."
       ]
      },
      {
       "output_type": "stream",
       "stream": "stdout",
       "text": [
        "\n",
        "HTTP Error 404: Not Found, Retrying in 6 seconds..."
       ]
      },
      {
       "output_type": "stream",
       "stream": "stdout",
       "text": [
        "\n",
        "Browsing to http://www.ncbi.nlm.nih.gov/pmc/articles/pmid/11102733..."
       ]
      },
      {
       "output_type": "stream",
       "stream": "stdout",
       "text": [
        "\n",
        "HTTP Error 404: Not Found, Retrying in 12 seconds..."
       ]
      },
      {
       "output_type": "stream",
       "stream": "stdout",
       "text": [
        "\n",
        "Browsing to http://www.ncbi.nlm.nih.gov/pmc/articles/pmid/11102733..."
       ]
      },
      {
       "output_type": "stream",
       "stream": "stdout",
       "text": [
        "\n",
        "Browsing to http://www.sciencedirect.com.proxy.lib.umich.edu/science/article/pii/S0387760400001790/pdfft?md5=9266b3505c479beea86ccbbb1e95c7bb&pid=1-s2.0-S0387760400001790-main.pdf..."
       ]
      },
      {
       "output_type": "stream",
       "stream": "stdout",
       "text": [
        "\n",
        "Browsing to http://www.sciencedirect.com.proxy.lib.umich.edu/science/article/pii/S0387760400001790?np=y..."
       ]
      },
      {
       "output_type": "stream",
       "stream": "stdout",
       "text": [
        "\n",
        "Browsing to http://www.ncbi.nlm.nih.gov/pmc/articles/pmid/11102732..."
       ]
      },
      {
       "output_type": "stream",
       "stream": "stdout",
       "text": [
        "\n",
        "HTTP Error 404: Not Found, Retrying in 3 seconds..."
       ]
      },
      {
       "output_type": "stream",
       "stream": "stdout",
       "text": [
        "\n",
        "Browsing to http://www.ncbi.nlm.nih.gov/pmc/articles/pmid/11102732..."
       ]
      },
      {
       "output_type": "stream",
       "stream": "stdout",
       "text": [
        "\n",
        "HTTP Error 404: Not Found, Retrying in 6 seconds..."
       ]
      },
      {
       "output_type": "stream",
       "stream": "stdout",
       "text": [
        "\n",
        "Browsing to http://www.ncbi.nlm.nih.gov/pmc/articles/pmid/11102732..."
       ]
      },
      {
       "output_type": "stream",
       "stream": "stdout",
       "text": [
        "\n",
        "HTTP Error 404: Not Found, Retrying in 12 seconds..."
       ]
      },
      {
       "ename": "KeyboardInterrupt",
       "evalue": "",
       "output_type": "pyerr",
       "traceback": [
        "\u001b[0;31m---------------------------------------------------------------------------\u001b[0m\n\u001b[0;31mKeyboardInterrupt\u001b[0m                         Traceback (most recent call last)",
        "\u001b[0;32m<ipython-input-5-4037911f1dd0>\u001b[0m in \u001b[0;36m<module>\u001b[0;34m()\u001b[0m\n\u001b[0;32m----> 1\u001b[0;31m \u001b[0madded\u001b[0m \u001b[0;34m=\u001b[0m \u001b[0mArticle\u001b[0m\u001b[0;34m.\u001b[0m\u001b[0mupdate\u001b[0m\u001b[0;34m(\u001b[0m\u001b[0;34m'fmri'\u001b[0m\u001b[0;34m,\u001b[0m \u001b[0;36m100\u001b[0m\u001b[0;34m)\u001b[0m\u001b[0;34m\u001b[0m\u001b[0m\n\u001b[0m",
        "\u001b[0;32m/Users/jmcarp/code/neurotrends/neurotrends/model/article.pyc\u001b[0m in \u001b[0;36mupdate\u001b[0;34m(cls, query, max_count)\u001b[0m\n\u001b[1;32m    106\u001b[0m             \u001b[0mlogging\u001b[0m\u001b[0;34m.\u001b[0m\u001b[0mdebug\u001b[0m\u001b[0;34m(\u001b[0m\u001b[0;34m'Adding article {}'\u001b[0m\u001b[0;34m.\u001b[0m\u001b[0mformat\u001b[0m\u001b[0;34m(\u001b[0m\u001b[0mpmid\u001b[0m\u001b[0;34m)\u001b[0m\u001b[0;34m)\u001b[0m\u001b[0;34m\u001b[0m\u001b[0m\n\u001b[1;32m    107\u001b[0m             \u001b[0marticle\u001b[0m \u001b[0;34m=\u001b[0m \u001b[0mArticle\u001b[0m\u001b[0;34m.\u001b[0m\u001b[0mfrom_record\u001b[0m\u001b[0;34m(\u001b[0m\u001b[0mrecord\u001b[0m\u001b[0;34m)\u001b[0m\u001b[0;34m\u001b[0m\u001b[0m\n\u001b[0;32m--> 108\u001b[0;31m             \u001b[0marticle\u001b[0m\u001b[0;34m.\u001b[0m\u001b[0mscrape\u001b[0m\u001b[0;34m(\u001b[0m\u001b[0mscraper\u001b[0m\u001b[0;34m)\u001b[0m\u001b[0;34m\u001b[0m\u001b[0m\n\u001b[0m\u001b[1;32m    109\u001b[0m             \u001b[0madded\u001b[0m\u001b[0;34m.\u001b[0m\u001b[0mappend\u001b[0m\u001b[0;34m(\u001b[0m\u001b[0marticle\u001b[0m\u001b[0;34m)\u001b[0m\u001b[0;34m\u001b[0m\u001b[0m\n\u001b[1;32m    110\u001b[0m \u001b[0;34m\u001b[0m\u001b[0m\n",
        "\u001b[0;32m/Users/jmcarp/code/neurotrends/neurotrends/model/article.pyc\u001b[0m in \u001b[0;36mscrape\u001b[0;34m(self, scraper, document_types, overwrite)\u001b[0m\n\u001b[1;32m    219\u001b[0m                 \u001b[0mpmid\u001b[0m\u001b[0;34m=\u001b[0m\u001b[0mself\u001b[0m\u001b[0;34m.\u001b[0m\u001b[0mpmid\u001b[0m\u001b[0;34m,\u001b[0m\u001b[0;34m\u001b[0m\u001b[0m\n\u001b[1;32m    220\u001b[0m                 \u001b[0mdoi\u001b[0m\u001b[0;34m=\u001b[0m\u001b[0mself\u001b[0m\u001b[0;34m.\u001b[0m\u001b[0mdoi\u001b[0m\u001b[0;34m,\u001b[0m\u001b[0;34m\u001b[0m\u001b[0m\n\u001b[0;32m--> 221\u001b[0;31m                 \u001b[0mfetch_types\u001b[0m\u001b[0;34m=\u001b[0m\u001b[0mdocument_types\u001b[0m\u001b[0;34m\u001b[0m\u001b[0m\n\u001b[0m\u001b[1;32m    222\u001b[0m             )\n\u001b[1;32m    223\u001b[0m         \u001b[0;32mexcept\u001b[0m \u001b[0mScrapeError\u001b[0m\u001b[0;34m:\u001b[0m\u001b[0;34m\u001b[0m\u001b[0m\n",
        "\u001b[0;32m/Users/jmcarp/env/neurotrends/lib/python2.7/site-packages/sciscrape-0.1-py2.7.egg/sciscrape/scrapetools/scrape.pyc\u001b[0m in \u001b[0;36mscrape\u001b[0;34m(self, doi, pmid, fetch_pmid, fetch_types)\u001b[0m\n\u001b[1;32m    175\u001b[0m             \u001b[0;32mtry\u001b[0m\u001b[0;34m:\u001b[0m\u001b[0;34m\u001b[0m\u001b[0m\n\u001b[1;32m    176\u001b[0m                 \u001b[0;31m# Success\u001b[0m\u001b[0;34m\u001b[0m\u001b[0;34m\u001b[0m\u001b[0m\n\u001b[0;32m--> 177\u001b[0;31m                 \u001b[0mget_success\u001b[0m \u001b[0;34m=\u001b[0m \u001b[0mgetter\u001b[0m\u001b[0;34m.\u001b[0m\u001b[0mreget\u001b[0m\u001b[0;34m(\u001b[0m\u001b[0mself\u001b[0m\u001b[0;34m.\u001b[0m\u001b[0minfo\u001b[0m\u001b[0;34m,\u001b[0m \u001b[0mself\u001b[0m\u001b[0;34m.\u001b[0m\u001b[0mbrowser\u001b[0m\u001b[0;34m)\u001b[0m\u001b[0;34m\u001b[0m\u001b[0m\n\u001b[0m\u001b[1;32m    178\u001b[0m                 \u001b[0mself\u001b[0m\u001b[0;34m.\u001b[0m\u001b[0minfo\u001b[0m\u001b[0;34m.\u001b[0m\u001b[0mdocs\u001b[0m\u001b[0;34m[\u001b[0m\u001b[0mdoc_type\u001b[0m\u001b[0;34m]\u001b[0m \u001b[0;34m=\u001b[0m \u001b[0mself\u001b[0m\u001b[0;34m.\u001b[0m\u001b[0minfo\u001b[0m\u001b[0;34m.\u001b[0m\u001b[0mhtml\u001b[0m\u001b[0;34m\u001b[0m\u001b[0m\n\u001b[1;32m    179\u001b[0m                 \u001b[0mself\u001b[0m\u001b[0;34m.\u001b[0m\u001b[0minfo\u001b[0m\u001b[0;34m.\u001b[0m\u001b[0mstatus\u001b[0m\u001b[0;34m[\u001b[0m\u001b[0mdoc_type\u001b[0m\u001b[0;34m]\u001b[0m \u001b[0;34m=\u001b[0m \u001b[0;34m'Success'\u001b[0m\u001b[0;34m\u001b[0m\u001b[0m\n",
        "\u001b[0;32m/Users/jmcarp/env/neurotrends/lib/python2.7/site-packages/sciscrape-0.1-py2.7.egg/sciscrape/utils/retry.pyc\u001b[0m in \u001b[0;36mf_retry\u001b[0;34m(*args, **kwargs)\u001b[0m\n\u001b[1;32m     37\u001b[0m                     \u001b[0;32melse\u001b[0m\u001b[0;34m:\u001b[0m\u001b[0;34m\u001b[0m\u001b[0m\n\u001b[1;32m     38\u001b[0m                         \u001b[0;32mprint\u001b[0m \u001b[0mmsg\u001b[0m\u001b[0;34m\u001b[0m\u001b[0m\n\u001b[0;32m---> 39\u001b[0;31m                     \u001b[0mtime\u001b[0m\u001b[0;34m.\u001b[0m\u001b[0msleep\u001b[0m\u001b[0;34m(\u001b[0m\u001b[0mmdelay\u001b[0m\u001b[0;34m)\u001b[0m\u001b[0;34m\u001b[0m\u001b[0m\n\u001b[0m\u001b[1;32m     40\u001b[0m                     \u001b[0mmtries\u001b[0m \u001b[0;34m-=\u001b[0m \u001b[0;36m1\u001b[0m\u001b[0;34m\u001b[0m\u001b[0m\n\u001b[1;32m     41\u001b[0m                     \u001b[0mmdelay\u001b[0m \u001b[0;34m*=\u001b[0m \u001b[0mbackoff\u001b[0m\u001b[0;34m\u001b[0m\u001b[0m\n",
        "\u001b[0;31mKeyboardInterrupt\u001b[0m: "
       ]
      },
      {
       "output_type": "stream",
       "stream": "stdout",
       "text": [
        "\n"
       ]
      },
      {
       "output_type": "stream",
       "stream": "stderr",
       "text": [
        "/Users/jmcarp/env/neurotrends/lib/python2.7/site-packages/modularodm/storedobject.py:614: UserWarning: Setting an attribute that is neither a field nor a protected value.\n",
        "  warnings.warn('Setting an attribute that is neither a field nor a protected value.')\n"
       ]
      }
     ],
     "prompt_number": 5
    },
    {
     "cell_type": "code",
     "collapsed": false,
     "input": [
      "articles = Article.find().limit(50)"
     ],
     "language": "python",
     "metadata": {},
     "outputs": [],
     "prompt_number": 8
    },
    {
     "cell_type": "code",
     "collapsed": false,
     "input": [
      "print articles[1].publisher_html"
     ],
     "language": "python",
     "metadata": {},
     "outputs": [
      {
       "output_type": "stream",
       "stream": "stdout",
       "text": [
        "None\n"
       ]
      }
     ],
     "prompt_number": 15
    },
    {
     "cell_type": "code",
     "collapsed": false,
     "input": [
      "for article in articles:\n",
      "    print article.pmid\n",
      "    _ = article.tag()"
     ],
     "language": "python",
     "metadata": {},
     "outputs": [
      {
       "ename": "TypeError",
       "evalue": "coercing to Unicode: need string or buffer, NoneType found",
       "output_type": "pyerr",
       "traceback": [
        "\u001b[0;31m---------------------------------------------------------------------------\u001b[0m\n\u001b[0;31mTypeError\u001b[0m                                 Traceback (most recent call last)",
        "\u001b[0;32m<ipython-input-11-d6697aedfc4d>\u001b[0m in \u001b[0;36m<module>\u001b[0;34m()\u001b[0m\n\u001b[1;32m      1\u001b[0m \u001b[0;32mfor\u001b[0m \u001b[0marticle\u001b[0m \u001b[0;32min\u001b[0m \u001b[0marticles\u001b[0m\u001b[0;34m:\u001b[0m\u001b[0;34m\u001b[0m\u001b[0m\n\u001b[1;32m      2\u001b[0m     \u001b[0;32mprint\u001b[0m \u001b[0marticle\u001b[0m\u001b[0;34m.\u001b[0m\u001b[0mpmid\u001b[0m\u001b[0;34m\u001b[0m\u001b[0m\n\u001b[0;32m----> 3\u001b[0;31m     \u001b[0m_\u001b[0m \u001b[0;34m=\u001b[0m \u001b[0marticle\u001b[0m\u001b[0;34m.\u001b[0m\u001b[0mtag\u001b[0m\u001b[0;34m(\u001b[0m\u001b[0;34m)\u001b[0m\u001b[0;34m\u001b[0m\u001b[0m\n\u001b[0m",
        "\u001b[0;32m/Users/jmcarp/code/neurotrends/neurotrends/model/article.pyc\u001b[0m in \u001b[0;36mtag\u001b[0;34m(self, modules, overwrite)\u001b[0m\n\u001b[1;32m    264\u001b[0m             \u001b[0;32mif\u001b[0m \u001b[0mdocument\u001b[0m \u001b[0;32mis\u001b[0m \u001b[0mNone\u001b[0m\u001b[0;34m:\u001b[0m\u001b[0;34m\u001b[0m\u001b[0m\n\u001b[1;32m    265\u001b[0m                 \u001b[0;32mcontinue\u001b[0m\u001b[0;34m\u001b[0m\u001b[0m\n\u001b[0;32m--> 266\u001b[0;31m             \u001b[0mdoc\u001b[0m \u001b[0;34m=\u001b[0m \u001b[0mdocument\u001b[0m\u001b[0;34m.\u001b[0m\u001b[0mread\u001b[0m\u001b[0;34m(\u001b[0m\u001b[0;34m)\u001b[0m\u001b[0;34m\u001b[0m\u001b[0m\n\u001b[0m\u001b[1;32m    267\u001b[0m             \u001b[0;32mif\u001b[0m \u001b[0;32mnot\u001b[0m \u001b[0mdoc\u001b[0m \u001b[0;32mor\u001b[0m \u001b[0;32mnot\u001b[0m \u001b[0mdocument\u001b[0m\u001b[0;34m.\u001b[0m\u001b[0mverify\u001b[0m\u001b[0;34m(\u001b[0m\u001b[0mVERIFY_THRESHOLD\u001b[0m\u001b[0;34m)\u001b[0m\u001b[0;34m:\u001b[0m\u001b[0;34m\u001b[0m\u001b[0m\n\u001b[1;32m    268\u001b[0m                 \u001b[0;32mcontinue\u001b[0m\u001b[0;34m\u001b[0m\u001b[0m\n",
        "\u001b[0;32m/Users/jmcarp/code/neurotrends/neurotrends/model/document.pyc\u001b[0m in \u001b[0;36mread\u001b[0;34m(self, overwrite)\u001b[0m\n\u001b[1;32m    124\u001b[0m \u001b[0;34m\u001b[0m\u001b[0m\n\u001b[1;32m    125\u001b[0m         \u001b[0;31m# Convert to plain text\u001b[0m\u001b[0;34m\u001b[0m\u001b[0;34m\u001b[0m\u001b[0m\n\u001b[0;32m--> 126\u001b[0;31m         \u001b[0mhtml\u001b[0m \u001b[0;34m=\u001b[0m \u001b[0mopen\u001b[0m\u001b[0;34m(\u001b[0m\u001b[0mself\u001b[0m\u001b[0;34m.\u001b[0m\u001b[0mfilepath\u001b[0m\u001b[0;34m,\u001b[0m \u001b[0;34m'r'\u001b[0m\u001b[0;34m)\u001b[0m\u001b[0;34m.\u001b[0m\u001b[0mread\u001b[0m\u001b[0;34m(\u001b[0m\u001b[0;34m)\u001b[0m\u001b[0;34m\u001b[0m\u001b[0m\n\u001b[0m\u001b[1;32m    127\u001b[0m \u001b[0;34m\u001b[0m\u001b[0m\n\u001b[1;32m    128\u001b[0m         \u001b[0;31m# Pad TDs\u001b[0m\u001b[0;34m\u001b[0m\u001b[0;34m\u001b[0m\u001b[0m\n",
        "\u001b[0;31mTypeError\u001b[0m: coercing to Unicode: need string or buffer, NoneType found"
       ]
      },
      {
       "output_type": "stream",
       "stream": "stdout",
       "text": [
        "18817090\n",
        "18975244\n"
       ]
      }
     ],
     "prompt_number": 11
    }
   ],
   "metadata": {}
  }
 ]
}